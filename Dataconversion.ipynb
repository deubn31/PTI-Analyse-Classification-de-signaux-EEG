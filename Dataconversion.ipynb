{
 "cells": [
  {
   "cell_type": "code",
   "execution_count": null,
   "metadata": {},
   "outputs": [],
   "source": [
    "data=np.zeros([500,4098])\n",
    "\n",
    "sets=[\"A\",\"B\",\"C\",\"D\",\"E\"]\n",
    "lettres=[\"Z\",\"O\",\"N\",\"F\",\"S\"]\n",
    "\n",
    "for j in range (5): #on balaye chaque set\n",
    "    lettre=lettres[j] \n",
    "    set=sets[j]\n",
    "    data[j*100:(j+1)*100,0]=j+1\n",
    "    for k in range (100): #100 EEG de chaque set\n",
    "        if (k+1)<10:\n",
    "            nomfichier=lettre+\"00\"+str(k+1)\n",
    "        elif k==99:\n",
    "            nomfichier=lettre+str(k+1)\n",
    "        else:\n",
    "            nomfichier=lettre+\"0\"+str(k+1)\n",
    "\n",
    "        if j==0:\n",
    "            fichier=open(\"./Sets A to E/\"+set+\"/\"+nomfichier+\".txt\",\"r\") \n",
    "        else:\n",
    "            fichier=open(\"./Sets A to E/\"+set+\"/\"+lettre+\"/\"+nomfichier+\".txt\",\"r\") \n",
    "\n",
    "        contenu=fichier.read() #permet d'avoir les données en str\n",
    "\n",
    "        #pour transformer les données str en int\n",
    "        b=0\n",
    "        currentstring=\"\"\n",
    "        for i in range (len(contenu)):\n",
    "            if contenu[i]==\"\\n\": #détecte un espace avec \\n qui sépare les nombres\n",
    "                data[j*100+k,b+1]=int(currentstring)  #insertion des données quand on a lu le nombre en entier\n",
    "                currentstring=\"\"\n",
    "                b+=1\n",
    "            else:\n",
    "                currentstring+=contenu[i]\n",
    "        fichier.close()"
   ]
  }
 ],
 "metadata": {
  "kernelspec": {
   "display_name": "envPTI",
   "language": "python",
   "name": "python3"
  },
  "language_info": {
   "codemirror_mode": {
    "name": "ipython",
    "version": 3
   },
   "file_extension": ".py",
   "mimetype": "text/x-python",
   "name": "python",
   "nbconvert_exporter": "python",
   "pygments_lexer": "ipython3",
   "version": "3.12.7"
  }
 },
 "nbformat": 4,
 "nbformat_minor": 2
}
