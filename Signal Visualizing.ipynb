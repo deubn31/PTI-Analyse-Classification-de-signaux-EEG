{
 "cells": [
  {
   "cell_type": "markdown",
   "metadata": {},
   "source": [
    "This file was made for Signal Visualizing"
   ]
  },
  {
   "cell_type": "code",
   "execution_count": 1,
   "metadata": {},
   "outputs": [
    {
     "name": "stdout",
     "output_type": "stream",
     "text": [
      "Requirement already satisfied: numpy in c:\\users\\mathi\\anaconda3\\envs\\pti-b5\\lib\\site-packages (2.1.2)\n",
      "Note: you may need to restart the kernel to use updated packages.\n",
      "Requirement already satisfied: Matplotlib in c:\\users\\mathi\\anaconda3\\envs\\pti-b5\\lib\\site-packages (3.9.2)Note: you may need to restart the kernel to use updated packages.\n",
      "\n",
      "Requirement already satisfied: contourpy>=1.0.1 in c:\\users\\mathi\\anaconda3\\envs\\pti-b5\\lib\\site-packages (from Matplotlib) (1.3.0)\n",
      "Requirement already satisfied: cycler>=0.10 in c:\\users\\mathi\\anaconda3\\envs\\pti-b5\\lib\\site-packages (from Matplotlib) (0.12.1)\n",
      "Requirement already satisfied: fonttools>=4.22.0 in c:\\users\\mathi\\anaconda3\\envs\\pti-b5\\lib\\site-packages (from Matplotlib) (4.54.1)\n",
      "Requirement already satisfied: kiwisolver>=1.3.1 in c:\\users\\mathi\\anaconda3\\envs\\pti-b5\\lib\\site-packages (from Matplotlib) (1.4.7)\n",
      "Requirement already satisfied: numpy>=1.23 in c:\\users\\mathi\\anaconda3\\envs\\pti-b5\\lib\\site-packages (from Matplotlib) (2.1.2)\n",
      "Requirement already satisfied: packaging>=20.0 in c:\\users\\mathi\\anaconda3\\envs\\pti-b5\\lib\\site-packages (from Matplotlib) (24.1)\n",
      "Requirement already satisfied: pillow>=8 in c:\\users\\mathi\\anaconda3\\envs\\pti-b5\\lib\\site-packages (from Matplotlib) (11.0.0)\n",
      "Requirement already satisfied: pyparsing>=2.3.1 in c:\\users\\mathi\\anaconda3\\envs\\pti-b5\\lib\\site-packages (from Matplotlib) (3.2.0)\n",
      "Requirement already satisfied: python-dateutil>=2.7 in c:\\users\\mathi\\anaconda3\\envs\\pti-b5\\lib\\site-packages (from Matplotlib) (2.9.0)\n",
      "Requirement already satisfied: six>=1.5 in c:\\users\\mathi\\anaconda3\\envs\\pti-b5\\lib\\site-packages (from python-dateutil>=2.7->Matplotlib) (1.16.0)\n"
     ]
    }
   ],
   "source": [
    "%pip install numpy\n",
    "%pip install Matplotlib\n",
    "import numpy as np\n",
    "import matplotlib.pyplot as plt\n",
    "import matplotlib"
   ]
  },
  {
   "cell_type": "code",
   "execution_count": null,
   "metadata": {},
   "outputs": [],
   "source": [
    "data=np.zeros([500,4098])\n",
    "\n",
    "sets=[\"A\",\"B\",\"C\",\"D\",\"E\"]\n",
    "lettres=[\"Z\",\"O\",\"N\",\"F\",\"S\"]\n",
    "\n",
    "for j in range (5): #on balaye chaque set\n",
    "    lettre=lettres[j] \n",
    "    set=sets[j]\n",
    "    data[j*100:(j+1)*100,0]=j+1\n",
    "    for k in range (100): #100 EEG de chaque set\n",
    "        if (k+1)<10:\n",
    "            nomfichier=lettre+\"00\"+str(k+1)\n",
    "        elif k==99:\n",
    "            nomfichier=lettre+str(k+1)\n",
    "        else:\n",
    "            nomfichier=lettre+\"0\"+str(k+1)\n",
    "\n",
    "        if j==0:\n",
    "            fichier=open(\"./Sets A to E/\"+set+\"/\"+nomfichier+\".txt\",\"r\") \n",
    "        else:\n",
    "            fichier=open(\"./Sets A to E/\"+set+\"/\"+lettre+\"/\"+nomfichier+\".txt\",\"r\") \n",
    "\n",
    "        contenu=fichier.read() #permet d'avoir les données en str\n",
    "\n",
    "        #pour transformer les données str en int\n",
    "        b=0\n",
    "        currentstring=\"\"\n",
    "        for i in range (len(contenu)):\n",
    "            if contenu[i]==\"\\n\": #détecte un espace avec \\n qui sépare les nombres\n",
    "                data[j*100+k,b+1]=int(currentstring)  #insertion des données quand on a lu le nombre en entier\n",
    "                currentstring=\"\"\n",
    "                b+=1\n",
    "            else:\n",
    "                currentstring+=contenu[i]\n",
    "        fichier.close()\n",
    "\n"
   ]
  }
 ],
 "metadata": {
  "kernelspec": {
   "display_name": "PTI-B5",
   "language": "python",
   "name": "python3"
  },
  "language_info": {
   "codemirror_mode": {
    "name": "ipython",
    "version": 3
   },
   "file_extension": ".py",
   "mimetype": "text/x-python",
   "name": "python",
   "nbconvert_exporter": "python",
   "pygments_lexer": "ipython3",
   "version": "3.12.7"
  }
 },
 "nbformat": 4,
 "nbformat_minor": 2
}
