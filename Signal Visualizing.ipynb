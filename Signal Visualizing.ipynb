{
 "cells": [
  {
   "cell_type": "code",
   "execution_count": 2,
   "metadata": {},
   "outputs": [],
   "source": [
    "import numpy as np"
   ]
  },
  {
   "cell_type": "code",
   "execution_count": 3,
   "metadata": {},
   "outputs": [
    {
     "name": "stdout",
     "output_type": "stream",
     "text": [
      "<class '_io.TextIOWrapper'>\n"
     ]
    }
   ],
   "source": [
    "#This file was made for Signal Visualizing\n",
    "fZ001=open(\"./Sets A to E/A/Z001.txt\",\"r\") \n",
    "print(type(fZ001))\n",
    "contenuZ001=fZ001.read() #permet d'avoir les données en str\n",
    "\n",
    "\"\"\"test=int(\"-\"+contenuZ001[0]+contenuZ001[1])\n",
    "print(test)\n",
    "print(type(test))\n",
    "print(contenuZ001.count(\"\\n\"))\n",
    "print(len(contenuZ001))\"\"\"\n",
    "\n",
    "#pour transformer les données str en int\n",
    "k=0\n",
    "currentstring=\"\"\n",
    "Z001=np.zeros(4097)\n",
    "for i in range (len(contenuZ001)):\n",
    "    if contenuZ001[i]==\"\\n\": #détecte un espace avec \\n qui sépare les nombres\n",
    "        Z001[k]=int(currentstring)  \n",
    "        currentstring=\"\"\n",
    "        k+=1\n",
    "    else:\n",
    "        currentstring+=contenuZ001[i] #concaténation\n",
    "fZ001.close()"
   ]
  }
 ],
 "metadata": {
  "kernelspec": {
   "display_name": "PTI-B5",
   "language": "python",
   "name": "python3"
  },
  "language_info": {
   "codemirror_mode": {
    "name": "ipython",
    "version": 3
   },
   "file_extension": ".py",
   "mimetype": "text/x-python",
   "name": "python",
   "nbconvert_exporter": "python",
   "pygments_lexer": "ipython3",
   "version": "3.12.7"
  }
 },
 "nbformat": 4,
 "nbformat_minor": 2
}
