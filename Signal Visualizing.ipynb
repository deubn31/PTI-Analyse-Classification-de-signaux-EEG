{
 "cells": [
  {
   "cell_type": "code",
   "execution_count": 11,
   "metadata": {},
   "outputs": [
    {
     "name": "stdout",
     "output_type": "stream",
     "text": [
      "<class '_io.TextIOWrapper'>\n"
     ]
    },
    {
     "name": "stderr",
     "output_type": "stream",
     "text": [
      "<>:2: SyntaxWarning: invalid escape sequence '\\A'\n",
      "<>:2: SyntaxWarning: invalid escape sequence '\\A'\n",
      "C:\\Users\\mathi\\AppData\\Local\\Temp\\ipykernel_16632\\4261425342.py:2: SyntaxWarning: invalid escape sequence '\\A'\n",
      "  with open(\"Sets A to E\\A\\Z001.txt\",\"r\") as Z001:\n"
     ]
    }
   ],
   "source": [
    "#This file was made for Signal Visualizing\n",
    "with open(\"Sets A to E\\A\\Z001.txt\",\"r\") as Z001:\n",
    "    print(type(Z001))"
   ]
  }
 ],
 "metadata": {
  "kernelspec": {
   "display_name": "PTI-B5",
   "language": "python",
   "name": "python3"
  },
  "language_info": {
   "codemirror_mode": {
    "name": "ipython",
    "version": 3
   },
   "file_extension": ".py",
   "mimetype": "text/x-python",
   "name": "python",
   "nbconvert_exporter": "python",
   "pygments_lexer": "ipython3",
   "version": "3.12.7"
  }
 },
 "nbformat": 4,
 "nbformat_minor": 2
}
