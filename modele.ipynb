{
 "cells": [
  {
   "cell_type": "code",
   "execution_count": 5,
   "metadata": {},
   "outputs": [
    {
     "name": "stdout",
     "output_type": "stream",
     "text": [
      "PyTorch version: 2.5.1\n",
      "Torchvision version: 0.20.1\n",
      "Numpy version: 1.26.4\n"
     ]
    }
   ],
   "source": [
    "import torch\n",
    "import torch.nn as nn\n",
    "import torchvision\n",
    "from torchvision import transforms\n",
    "from torch.utils.data import DataLoader, random_split\n",
    "from sklearn.model_selection import train_test_split  \n",
    "import numpy as np\n",
    "import matplotlib.pyplot as plt\n",
    "import pickle\n",
    "\n",
    "print(f\"PyTorch version: {torch.__version__}\")\n",
    "print(f\"Torchvision version: {torchvision.__version__}\")\n",
    "print(f\"Numpy version: {np.__version__}\")"
   ]
  },
  {
   "cell_type": "code",
   "execution_count": null,
   "metadata": {},
   "outputs": [
    {
     "name": "stdout",
     "output_type": "stream",
     "text": [
      "Ensemble d'entraînement : torch.Size([400, 4098])\n",
      "Ensemble de validation : torch.Size([50, 4098])\n",
      "Ensemble de test : torch.Size([50, 4098])\n"
     ]
    }
   ],
   "source": [
    "## Importation des données puis formatage pour l'entrainement\n",
    "\n",
    "#load data from data.pkl in a tensor\n",
    "with open('data.pkl', 'rb') as file: #récupération des données\n",
    "    data = pickle.load(file)\n",
    "    data = torch.tensor(data)\n",
    "\n",
    "# Mélanger les lignes  \n",
    "permuted_indices = torch.randperm(data.size(0))  # Générer des indices aléatoires  \n",
    "shuffled_data = data[permuted_indices]  # Réorganiser les données  \n",
    "\n",
    "# Diviser le tenseur en ensembles d'entraînement, de validation et de test  \n",
    "train_size = int(0.8 * len(shuffled_data))  \n",
    "val_size = int(0.1 * len(shuffled_data))  \n",
    "test_size = len(shuffled_data) - train_size - val_size  \n",
    "\n",
    "train_data = shuffled_data[:train_size]  # Ensemble d'entraînement  \n",
    "val_data = shuffled_data[train_size:train_size + val_size]  # Ensemble de validation  \n",
    "test_data = shuffled_data[train_size + val_size:]  # Ensemble de test  \n",
    "\n",
    "\n",
    "print(\"Ensemble d'entraînement :\", train_data.shape)  \n",
    "print(\"Ensemble de validation :\", val_data.shape)  \n",
    "print(\"Ensemble de test :\", test_data.shape)"
   ]
  }
 ],
 "metadata": {
  "kernelspec": {
   "display_name": "envPTI",
   "language": "python",
   "name": "python3"
  },
  "language_info": {
   "codemirror_mode": {
    "name": "ipython",
    "version": 3
   },
   "file_extension": ".py",
   "mimetype": "text/x-python",
   "name": "python",
   "nbconvert_exporter": "python",
   "pygments_lexer": "ipython3",
   "version": "3.12.7"
  }
 },
 "nbformat": 4,
 "nbformat_minor": 2
}
