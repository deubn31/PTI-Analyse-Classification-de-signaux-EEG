{
 "cells": [
  {
   "cell_type": "code",
   "execution_count": 9,
   "metadata": {},
   "outputs": [
    {
     "name": "stdout",
     "output_type": "stream",
     "text": [
      "tensor([1., 1., 1.])\n",
      "tensor([False,  True,  True])\n",
      "tensor([1])\n"
     ]
    }
   ],
   "source": [
    "#bac a sable\n",
    "import torch\n",
    "a=torch.ones(3)\n",
    "print(a)\n",
    "a[0]=0\n",
    "a=a.bool()\n",
    "print(a)\n",
    "b=torch.tensor([1,2,3])\n",
    "print(b[~a])\n"
   ]
  }
 ],
 "metadata": {
  "kernelspec": {
   "display_name": "monai-dev",
   "language": "python",
   "name": "python3"
  },
  "language_info": {
   "codemirror_mode": {
    "name": "ipython",
    "version": 3
   },
   "file_extension": ".py",
   "mimetype": "text/x-python",
   "name": "python",
   "nbconvert_exporter": "python",
   "pygments_lexer": "ipython3",
   "version": "3.12.7"
  }
 },
 "nbformat": 4,
 "nbformat_minor": 2
}
