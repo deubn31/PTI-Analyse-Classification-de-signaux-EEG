{
 "cells": [
  {
   "cell_type": "markdown",
   "metadata": {},
   "source": [
    "# PainAttnNet Implementation for EEG Classification"
   ]
  },
  {
   "cell_type": "code",
   "execution_count": 1,
   "metadata": {},
   "outputs": [
    {
     "name": "stdout",
     "output_type": "stream",
     "text": [
      "PyTorch version: 2.5.1\n",
      "Torchvision version: 0.20.1\n",
      "Numpy version: 1.26.4\n"
     ]
    }
   ],
   "source": [
    "import torch\n",
    "import torch.nn as nn\n",
    "import torchvision\n",
    "from torchvision import transforms\n",
    "from torch.utils.data import DataLoader, random_split\n",
    "from scipy.signal import butter, filtfilt\n",
    "from sklearn.model_selection import train_test_split  \n",
    "import numpy as np   \n",
    "import matplotlib.pyplot as plt\n",
    "import pickle\n",
    "from tqdm import tqdm\n",
    "\n",
    "from torchsummary import summary\n",
    "\n",
    "from torch.optim.lr_scheduler import ReduceLROnPlateau\n",
    "\n",
    "#transformer\n",
    "import torch.nn.functional as F\n",
    "import copy\n",
    "from copy import deepcopy\n",
    "\n",
    "from math import sqrt\n",
    "\n",
    "# torch.manual_seed(0)\n",
    "# np.random.seed(0)\n",
    "\n",
    "\n",
    "print(f\"PyTorch version: {torch.__version__}\")\n",
    "print(f\"Torchvision version: {torchvision.__version__}\")\n",
    "print(f\"Numpy version: {np.__version__}\")"
   ]
  },
  {
   "cell_type": "markdown",
   "metadata": {},
   "source": [
    "---\n",
    "## Data Import and Formatting for Training"
   ]
  },
  {
   "cell_type": "code",
   "execution_count": 2,
   "metadata": {},
   "outputs": [],
   "source": [
    "def noise_mask(X, masking_ratio, lm=3, mode='separate', distribution='geometric', exclude_feats=None):\n",
    "    \"\"\"\n",
    "    Creates a random boolean mask of the same shape as X, with 0s at places where a feature should be masked.\n",
    "    Args:\n",
    "        X: (batch_size, seq_length, feat_dim) tensor of features corresponding to a batch of samples\n",
    "        masking_ratio: proportion of seq_length to be masked. At each time step, will also be the proportion of\n",
    "            feat_dim that will be masked on average\n",
    "        lm: average length of masking subsequences (streaks of 0s). Used only when `distribution` is 'geometric'.\n",
    "        mode: whether each variable should be masked separately ('separate'), or all variables at certain positions\n",
    "            should be masked concurrently ('concurrent')\n",
    "        distribution: whether each mask sequence element is sampled independently at random, or whether\n",
    "            sampling follows a markov chain (and thus is stateful), resulting in geometric distributions of\n",
    "            masked sequences of a desired mean length `lm`\n",
    "        exclude_feats: iterable of indices corresponding to features to be excluded from masking (i.e. to remain all 1s)\n",
    "\n",
    "    Returns:\n",
    "        boolean tensor with the same shape as X, with 0s at places where a feature should be masked\n",
    "    \"\"\"\n",
    "    if isinstance(X, np.ndarray):\n",
    "        X = torch.tensor(X)  # Convert NumPy array to PyTorch tensor\n",
    "    seq_length = X.shape[0] \n",
    "    mask = torch.ones_like(X, dtype=torch.bool)\n",
    "\n",
    "    if exclude_feats is not None:\n",
    "        exclude_feats = set(exclude_feats)\n",
    "\n",
    "    if distribution == 'geometric':  # stateful (Markov chain)\n",
    "        if mode == 'separate':  # each variable (feature) is independent\n",
    "            mask = geom_noise_mask_single(seq_length, lm, masking_ratio)  # time dimension\n",
    "        else:  # replicate across feature dimension (mask all variables at the same positions concurrently)\n",
    "            mask_single = geom_noise_mask_single(seq_length, lm, masking_ratio).numpy()\n",
    "            mask[b] = torch.from_numpy(mask_single)\n",
    "    else:  # each position is independent Bernoulli with p = 1 - masking_ratio\n",
    "        if mode == 'separate':\n",
    "            mask = torch.from_numpy((torch.rand_like(X, dtype=torch.float) > masking_ratio).numpy())\n",
    "        else:\n",
    "            mask_single = (torch.rand((seq_length), dtype=torch.float) > masking_ratio).numpy()\n",
    "            mask = torch.from_numpy(mask_single)\n",
    "\n",
    "    return mask\n",
    "\n",
    "\n",
    "def geom_noise_mask_single(L, lm, masking_ratio):\n",
    "    \"\"\"\n",
    "    Randomly create a boolean mask of length `L`, consisting of subsequences of average length lm, masking with 0s a `masking_ratio`\n",
    "    proportion of the sequence L. The length of masking subsequences and intervals follow a geometric distribution.\n",
    "    Args:\n",
    "        L: length of mask and sequence to be masked\n",
    "        lm: average length of masking subsequences (streaks of 0s)\n",
    "        masking_ratio: proportion of L to be masked\n",
    "\n",
    "    Returns:\n",
    "        (L,) boolean tensor intended to mask ('drop') with 0s a sequence of length L\n",
    "    \"\"\"\n",
    "    keep_mask = torch.ones(L, dtype=torch.bool)\n",
    "    p_m = 1 / lm  # probability of each masking sequence stopping. parameter of geometric distribution.\n",
    "    p_u = p_m * masking_ratio / (1 - masking_ratio)  # probability of each unmasked sequence stopping. parameter of geometric distribution.\n",
    "    p = [p_m, p_u]\n",
    "\n",
    "    # Start in state 0 with masking_ratio probability\n",
    "    state = int(torch.rand(1).item() > masking_ratio)  # state 0 means masking, 1 means not masking\n",
    "    for i in range(L):\n",
    "        keep_mask[i] = state  # here it happens that state and masking value corresponding to state are identical\n",
    "        if torch.rand(1).item() < p[state]:\n",
    "            state = 1 - state\n",
    "\n",
    "    return keep_mask"
   ]
  },
  {
   "cell_type": "code",
   "execution_count": 3,
   "metadata": {},
   "outputs": [],
   "source": [
    "\n",
    "#load data from data.pkl in a tensor\n",
    "with open('data.pkl', 'rb') as file: #récupération des données\n",
    "    data = pickle.load(file)\n",
    "\n",
    "#filtrage des signaux EEG\n",
    "# Définir les fréquences de coupure et de la fréquence d'échantillonnage du signal\n",
    "low_cutoff = 0.53\n",
    "high_cutoff = 40\n",
    "sample_rate = 173.61\n",
    "\n",
    "# Conception du filtre passe-bande\n",
    "nyquist = 0.5 * sample_rate\n",
    "low = low_cutoff / nyquist\n",
    "high = high_cutoff / nyquist\n",
    "b, a = butter(4, [low, high], btype='band')\n",
    "\n",
    "# Séparer les labels des données\n",
    "labels = data[:, 0]  # La première colonne correspond aux labels\n",
    "signals = data[:, 1:]  # Les colonnes restantes sont les données à filtrer\n",
    "\n",
    "# Appliquer le filtre passe-bande aux données\n",
    "filtered_signals = filtfilt(b, a, signals, axis=1)\n",
    "\n",
    "# Faire une copie des signaux filtrés pour éviter les strides négatifs (c'est à dire pour que les données soient stockées de manière contiguë en mémoire)\n",
    "filtered_signals = filtered_signals.copy()\n",
    "\n",
    "# Normalisation des signaux\n",
    "mean = filtered_signals.mean(axis=1, keepdims=True)\n",
    "variance = filtered_signals.var(axis=1, keepdims=True)\n",
    "filtered_signals = (filtered_signals - mean) / np.sqrt(variance)\n",
    "\n",
    "# Créer un Dataset personnalisé\n",
    "class EEGDataset(torch.utils.data.Dataset):\n",
    "    def __init__(self, signals, labels):\n",
    "        self.signals = torch.tensor(signals, dtype=torch.float32).unsqueeze(1)  # Ajouter une dimension pour le canal\n",
    "        self.labels = torch.tensor(labels, dtype=torch.long)\n",
    "        #Modification labels sain et malade\n",
    "        for idx in range(len(self.labels)):\n",
    "            match labels[idx]:\n",
    "                case 1: #A\n",
    "                    self.labels[idx]=0\n",
    "                case 2: #B\n",
    "                    self.labels[idx]=1\n",
    "                case 3: #C\n",
    "                    self.labels[idx]=2\n",
    "                case 4: #D\n",
    "                    self.labels[idx]=3\n",
    "                case 5: #E\n",
    "                    self.labels[idx]=4\n",
    "\n",
    "    def __len__(self):\n",
    "        return len(self.signals)\n",
    "\n",
    "    def __getitem__(self, idx):\n",
    "        return self.signals[idx], self.labels[idx]\n",
    "    \n",
    "    def __getlabel__(self, idx):\n",
    "        return self.labels[idx]\n",
    "\n",
    "# Ajout de la classe dataset avec masquage\n",
    "class EEGImputationDataset(torch.utils.data.Dataset):\n",
    "    def __init__(self, signals, labels, mean_mask_length, masking_ratio,\n",
    "                 mode='separate', distribution='geometric'):\n",
    "        self.signals = signals\n",
    "        self.labels = labels\n",
    "        self.masking_ratio = masking_ratio\n",
    "        self.mean_mask_length = mean_mask_length\n",
    "        self.mode = mode \n",
    "        self.distribution = distribution\n",
    "\n",
    "    def __getitem__(self, idx):\n",
    "        # Récupérer le signal et le label\n",
    "        x = self.signals[idx]\n",
    "        label = self.labels[idx] if self.labels is not None else None\n",
    "        \n",
    "        # Convertir en tensor si nécessaire\n",
    "        if not torch.is_tensor(x):\n",
    "            x = torch.tensor(x, dtype=torch.float32)\n",
    "        \n",
    "        # Créer une copie du signal original\n",
    "        x_original = x.clone()\n",
    "        \n",
    "        # Générer le masque de bruit\n",
    "        mask = noise_mask(x,\n",
    "                        masking_ratio=self.masking_ratio,\n",
    "                        lm=self.mean_mask_length,\n",
    "                        mode=self.mode,\n",
    "                        distribution=self.distribution)\n",
    "        \n",
    "        # S'assurer que le masque est un tensor\n",
    "        mask = mask.float()\n",
    "        \n",
    "        # Appliquer le masque au signal\n",
    "        x_masked = x * mask\n",
    "        \n",
    "        # Ajouter une dimension pour le canal si nécessaire\n",
    "        x_masked = x_masked.unsqueeze(0) if len(x_masked.shape) == 1 else x_masked\n",
    "        mask = mask.unsqueeze(0) if len(mask.shape) == 1 else mask\n",
    "        x_original = x_original.unsqueeze(0) if len(x_original.shape) == 1 else x_original\n",
    "        \n",
    "        if label is not None:\n",
    "            label = torch.tensor(label)\n",
    "        \n",
    "        return x_masked, mask, x_original, label\n",
    "\n",
    "    def __len__(self):\n",
    "        return len(self.signals)\n",
    "\n",
    "# Créer un dataset personnalisé avec masquage\n",
    "dataset = EEGImputationDataset(\n",
    "    signals=filtered_signals, \n",
    "    labels=labels,\n",
    "    mean_mask_length=4,\n",
    "    masking_ratio=0,\n",
    "    mode='separate'\n",
    ")"
   ]
  },
  {
   "cell_type": "markdown",
   "metadata": {},
   "source": [
    "## Comparaison visuelle du signal filtré et original"
   ]
  },
  {
   "cell_type": "code",
   "execution_count": 4,
   "metadata": {},
   "outputs": [
    {
     "data": {
      "image/png": "[encoded data removed]",
      "text/plain": [
       "<Figure size 1400x600 with 2 Axes>"
      ]
     },
     "metadata": {},
     "output_type": "display_data"
    }
   ],
   "source": [
    "#Transformée de Fourier d'un des signaux filtrés et de sa version originale\n",
    "\n",
    "# Sélectionner un signal aléatoire\n",
    "random_index = np.random.randint(0, data.shape[0])\n",
    "original_signal = data[random_index]\n",
    "filtered_signal = filtered_signals[random_index]\n",
    "\n",
    "# Calculer la transformée de Fourier\n",
    "original_fft = np.fft.fft(original_signal)\n",
    "filtered_fft = np.fft.fft(filtered_signal)\n",
    "\n",
    "# Calculer les fréquences correspondantes\n",
    "freqs = np.fft.fftfreq(len(original_signal), d=1/sample_rate)\n",
    "\n",
    "# Ajuster les longueurs pour correspondre\n",
    "half_n = len(original_signal) // 2\n",
    "freqs = freqs[:half_n]\n",
    "original_fft = original_fft[:half_n]\n",
    "filtered_fft = filtered_fft[:half_n]\n",
    "\n",
    "# Afficher les résultats\n",
    "plt.figure(figsize=(14, 6))\n",
    "\n",
    "# Transformée de Fourier du signal original\n",
    "plt.subplot(1, 2, 1)\n",
    "plt.plot(freqs, np.abs(original_fft))\n",
    "plt.title('Transformée de Fourier du signal original')\n",
    "plt.xlabel('Fréquence (Hz)')\n",
    "plt.ylabel('Amplitude')\n",
    "\n",
    "# Transformée de Fourier du signal filtré\n",
    "plt.subplot(1, 2, 2)\n",
    "plt.plot(freqs, np.abs(filtered_fft))\n",
    "plt.title('Transformée de Fourier du signal filtré')\n",
    "plt.xlabel('Fréquence (Hz)')\n",
    "plt.ylabel('Amplitude')\n",
    "\n",
    "plt.tight_layout()\n",
    "plt.show()"
   ]
  },
  {
   "cell_type": "markdown",
   "metadata": {},
   "source": [
    "## Diviser les données en ensembles d'entraînement, de validation et de test"
   ]
  },
  {
   "cell_type": "code",
   "execution_count": 5,
   "metadata": {},
   "outputs": [
    {
     "name": "stdout",
     "output_type": "stream",
     "text": [
      "Ensemble d'entraînement : 400\n",
      "Ensemble de validation : 100\n",
      "Ensemble de test : 0\n"
     ]
    }
   ],
   "source": [
    "# Calculate sizes for split\n",
    "train_size = int(0.8 * 100)  # 80 samples per class with 100 the size of each set\n",
    "val_size = int(0.2 * 100)    # 10 samples per class\n",
    "test_size = 100 - train_size - val_size  # Remaining samples per class\n",
    "\n",
    "# Initialize empty lists for each split\n",
    "train_data_list = []\n",
    "val_data_list = []\n",
    "test_data_list = []\n",
    "\n",
    "# Split each class separately and combine\n",
    "for set_start in range(0, len(dataset), 100):  # Each set has 100 samples\n",
    "    set_data = torch.utils.data.Subset(dataset, range(set_start, set_start + 100))\n",
    "    class_splits = random_split(set_data, [train_size, val_size, test_size])\n",
    "    train_data_list.append(class_splits[0])\n",
    "    val_data_list.append(class_splits[1])\n",
    "    test_data_list.append(class_splits[2])\n",
    "\n",
    "# Combine the splits using ConcatDataset\n",
    "train_data = torch.utils.data.ConcatDataset(train_data_list)\n",
    "val_data = torch.utils.data.ConcatDataset(val_data_list)\n",
    "test_data = torch.utils.data.ConcatDataset(test_data_list)\n",
    "\n",
    "# Create DataLoaders\n",
    "batch_size = 2  # taille du batch\n",
    "train_loader = DataLoader(train_data, batch_size=batch_size, shuffle=True)\n",
    "valid_loader = DataLoader(val_data, batch_size=batch_size, shuffle=False)\n",
    "test_loader = DataLoader(test_data, batch_size=batch_size, shuffle=False)\n",
    "\n",
    "print(\"Ensemble d'entraînement :\", len(train_data))  \n",
    "print(\"Ensemble de validation :\", len(val_data))  \n",
    "print(\"Ensemble de test :\", len(test_data))"
   ]
  },
  {
   "cell_type": "markdown",
   "metadata": {},
   "source": [
    "## Visualize a Batch of Training Data"
   ]
  },
  {
   "cell_type": "code",
   "execution_count": 6,
   "metadata": {},
   "outputs": [
    {
     "data": {
      "image/png": "[encoded data removed]",
      "text/plain": [
       "<Figure size 1400x600 with 1 Axes>"
      ]
     },
     "metadata": {},
     "output_type": "display_data"
    },
    {
     "data": {
      "image/png": "[encoded data removed]",
      "text/plain": [
       "<Figure size 1400x600 with 1 Axes>"
      ]
     },
     "metadata": {},
     "output_type": "display_data"
    },
    {
     "data": {
      "image/png": "[encoded data removed]",
      "text/plain": [
       "<Figure size 1400x600 with 1 Axes>"
      ]
     },
     "metadata": {},
     "output_type": "display_data"
    },
    {
     "name": "stdout",
     "output_type": "stream",
     "text": [
      "Rapport de 0 par rapport au reste : [0. 0.]\n",
      "Moyenne des ratios de 0 0.0\n"
     ]
    }
   ],
   "source": [
    "# Sélectionner un batch aléatoire de signaux d'entraînement\n",
    "dataiter = iter(train_loader)\n",
    "x_masked, mask, x, labels = next(dataiter)\n",
    "\n",
    "#Comparaison x_masked et x pour 1 signal\n",
    "# Sélectionner un signal aléatoire\n",
    "random_index = np.random.randint(0, x_masked.shape[0])\n",
    "signal = x_masked[random_index].squeeze().cpu().numpy()\n",
    "original_signal = x[random_index].squeeze().cpu().numpy()\n",
    "#Affichage des signaux sur 2 graphiques différents\n",
    "plt.figure(figsize=(14, 6))\n",
    "plt.plot(signal.T)\n",
    "plt.title(\"Signal masqué\")\n",
    "plt.show()\n",
    "\n",
    "plt.figure(figsize=(14, 6))\n",
    "plt.plot(original_signal.T)\n",
    "plt.title(\"Signal original\")\n",
    "plt.show()\n",
    "\n",
    "\n",
    "\n",
    "# # Afficher les signaux dans le batch, avec les labels correspondants\n",
    "# plt.figure(figsize=(14, 6))\n",
    "# for i in range(10):\n",
    "#     plt.subplot(2, 5, i + 1)\n",
    "#     plt.plot(x_masked[i].squeeze().cpu().numpy().T)\n",
    "#     plt.title(f\"Label : {labels[i].item()}\")\n",
    "#     plt.axis('off')\n",
    "# plt.tight_layout()\n",
    "# plt.show()\n",
    "\n",
    "# Afficher un signal d'entrée au hasard et sa reconstruction\n",
    "random_index = np.random.randint(0, x.shape[0])\n",
    "input_signal = x[random_index].squeeze().cpu().numpy()\n",
    "mask_signal = mask[random_index].cpu().numpy().squeeze()\n",
    "\n",
    "plt.figure(figsize=(14, 6))\n",
    "\n",
    "# Afficher les parties masquées en rouge\n",
    "masked_indices = np.where(mask_signal[1000:1500] == 0)[0]\n",
    "plt.scatter(masked_indices, input_signal[masked_indices + 1000], color='red', label='Parties masquées', zorder=3)\n",
    "\n",
    "# Afficher le signal d'entrée et le signal reconstruit sur le même graphique\n",
    "plt.plot(input_signal[1000:1500], marker='o', label='Signal d\\'entrée', zorder=1)\n",
    "plt.title(\"Signal d'entrée avec parties masquées\")\n",
    "plt.legend()\n",
    "\n",
    "plt.tight_layout()\n",
    "plt.show()\n",
    "\n",
    "# Afficher le rapport du nombre de 0 par rapport aux reste sur les signaux masqués\n",
    "# Calculer le nombre de 0 dans chaque signal masqué\n",
    "num_zeros = (x_masked == 0).sum(dim=2).sum(dim=1).cpu().numpy()\n",
    "# Calculer le nombre total de valeurs dans chaque signal\n",
    "num_total = x_masked.shape[2]\n",
    "# Calculer le rapport de 0 par rapport au reste\n",
    "zero_ratio = num_zeros / num_total\n",
    "print(\"Rapport de 0 par rapport au reste :\", zero_ratio)\n",
    "#affichage de la moyenne des ratios\n",
    "print(\"Moyenne des ratios de 0\", zero_ratio.mean())\n"
   ]
  },
  {
   "cell_type": "markdown",
   "metadata": {},
   "source": [
    "---\n",
    "## Define the Network Architecture"
   ]
  },
  {
   "cell_type": "markdown",
   "metadata": {},
   "source": [
    "### Define the Models"
   ]
  },
  {
   "cell_type": "code",
   "execution_count": 7,
   "metadata": {},
   "outputs": [],
   "source": [
    "# Model MSCN (Multi-Scale Convolutional Network)\n",
    "class MSCN(nn.Module):\n",
    "    def __init__(self,mscn_output_channels,model_dim,kernel_size_short,kernel_size_medium,kernel_size_long,stride_short,stride_medium,stride_long):\n",
    "        super().__init__()\n",
    "        dropout = 0.5\n",
    "\n",
    "        self.short_scale = nn.Sequential(\n",
    "            nn.Conv1d(1, mscn_output_channels, kernel_size_short, stride_short, dilation=1, bias=False, padding=9), #anciennement kernel_size=50, stride=6, padding=24 \n",
    "            nn.BatchNorm1d(mscn_output_channels), \n",
    "            nn.GELU(),\n",
    "            nn.MaxPool1d(kernel_size=8, stride=2, padding=4),\n",
    "            nn.Dropout(dropout),\n",
    "\n",
    "            nn.Conv1d(mscn_output_channels, 128, kernel_size=8, stride=1, bias=False, padding=4),\n",
    "            nn.BatchNorm1d(128),\n",
    "            nn.GELU(),\n",
    "\n",
    "            nn.Conv1d(128, mscn_output_channels, kernel_size=8, stride=1, bias=False, padding=4),\n",
    "            nn.BatchNorm1d(mscn_output_channels),\n",
    "            nn.GELU(),\n",
    "\n",
    "            nn.MaxPool1d(kernel_size=4, stride=4, padding=2)\n",
    "        )\n",
    "\n",
    "        self.medium_scale = nn.Sequential(\n",
    "            nn.Conv1d(1, mscn_output_channels, kernel_size_medium, stride_medium, dilation=1, bias=False, padding=38), #anciennement kernel_size=512, stride=42, padding=256\n",
    "            nn.BatchNorm1d(mscn_output_channels),\n",
    "            nn.GELU(),\n",
    "            nn.MaxPool1d(kernel_size=4, stride=4, padding=0),\n",
    "            nn.Dropout(dropout),\n",
    "\n",
    "            nn.Conv1d(mscn_output_channels, 128, kernel_size=4, stride=1, bias=False, padding=3),\n",
    "            nn.BatchNorm1d(128),\n",
    "            nn.GELU(),\n",
    "\n",
    "            nn.Conv1d(128, mscn_output_channels, kernel_size=4, stride=1, bias=False, padding=3),\n",
    "            nn.BatchNorm1d(mscn_output_channels),\n",
    "            nn.GELU(),\n",
    "\n",
    "            nn.MaxPool1d(kernel_size=2, stride=2, padding=1)\n",
    "        )\n",
    "\n",
    "        self.long_scale = nn.Sequential(\n",
    "            nn.Conv1d(1, mscn_output_channels, kernel_size_long, stride_long, dilation=1, bias=False, padding=67), #anciennement kernel_size=1024, stride=84, padding=512\n",
    "            nn.BatchNorm1d(mscn_output_channels),\n",
    "            nn.GELU(),\n",
    "            nn.MaxPool1d(kernel_size=8, stride=8, padding=0),\n",
    "            nn.Dropout(dropout),\n",
    "\n",
    "            nn.Conv1d(mscn_output_channels, 128, kernel_size=8, stride=1, bias=False, padding=3),\n",
    "            nn.BatchNorm1d(128),\n",
    "            nn.GELU(),\n",
    "\n",
    "            nn.Conv1d(128, mscn_output_channels, kernel_size=8, stride=1, bias=False, padding=3),\n",
    "            nn.BatchNorm1d(mscn_output_channels),\n",
    "            nn.GELU(),\n",
    "\n",
    "            nn.MaxPool1d(kernel_size=2, stride=2, padding=1)\n",
    "        )\n",
    "        x_short_test=self.short_scale(torch.randn(1, 1, 4097))\n",
    "        x_medium_test=self.medium_scale(torch.randn(1, 1, 4097))\n",
    "        x_long_test=self.long_scale(torch.randn(1, 1, 4097))\n",
    "                    \n",
    "        self.dropout = nn.Dropout(dropout)\n",
    "        self.fc_short = nn.Linear(x_short_test.shape[2], model_dim)\n",
    "        self.fc_medium = nn.Linear(x_medium_test.shape[2], model_dim)\n",
    "        self.fc_long = nn.Linear(x_long_test.shape[2], model_dim)\n",
    "      \n",
    "\n",
    "    def forward(self, x):\n",
    "        x_short1 = self.short_scale(x)\n",
    "        # print(x_short.shape[2]) # (128, 64, 60) for BioVid\n",
    "        x_medium1 = self.medium_scale(x)\n",
    "        # print(x_medium.shape[2]) # (128, 64, 12) for BioVid\n",
    "        x_long1 = self.long_scale(x)\n",
    "        # print(x_long.shape[2]) # (128, 64, 3) for BioVid\n",
    "\n",
    "        x_short2 = self.fc_short(x_short1)\n",
    "        x_medium2 = self.fc_medium(x_medium1)\n",
    "        x_long2 = self.fc_long(x_long1)\n",
    "\n",
    "        x_concat = torch.cat((x_short2, x_medium2, x_long2), dim=1)\n",
    "\n",
    "        x_concat = self.dropout(x_concat)\n",
    "\n",
    "        return x_concat, x_short1, x_medium1, x_long1\n",
    "        \n",
    "        # Short scale output calculation:\n",
    "        # Input: 4097\n",
    "        # Conv1d: (4097 + 2*9 - 18)/2 + 1 = 2049\n",
    "        # MaxPool1d: (2049 + 2*4 - 8)/2 + 1 = 1025\n",
    "        # Conv1d: 1025 + 2*4 - 8 + 1 = 1026\n",
    "        # Conv1d: 1026 + 2*4 - 8 + 1 = 1027\n",
    "        # MaxPool1d: (1027 + 2*2 - 4)/4 + 1 = 257\n",
    "\n",
    "        # Medium scale output calculation:\n",
    "        # Input: 4097\n",
    "        # Conv1d: (4097 + 2*38 - 76)/10 + 1 = 410\n",
    "        # MaxPool1d: (410 - 4)/4 + 1 = 102\n",
    "        # Conv1d: 102 + 2*3 - 4 + 1 = 105\n",
    "        # Conv1d: 105 + 2*3 - 4 + 1 = 108\n",
    "        # MaxPool1d: (108 + 2*1 - 2)/2 + 1 = 55\n",
    "\n",
    "        # Long scale output calculation:\n",
    "        # Input: 4097\n",
    "        # Conv1d: (4097 + 2*67 - 134)/17 + 1 = 242\n",
    "        # MaxPool1d: (242 - 8)/8 + 1 = 30\n",
    "        # Conv1d: 30 + 2*3 - 7 + 1 = 30\n",
    "        # Conv1d: 30 + 2*3 - 7 + 1 = 30\n",
    "        # MaxPool1d: (30 + 2*1 - 2)/2 + 1 = 16\n"
   ]
  },
  {
   "cell_type": "code",
   "execution_count": 8,
   "metadata": {},
   "outputs": [],
   "source": [
    "# Model SEResNet (Residual network with squeeze-and-excitation blocks)\n",
    "\n",
    "\"\"\"\n",
    "This module contains the implementation of the SEResNet architecture.\n",
    "\"\"\"\n",
    "\n",
    "# First, we define the Squeeze-and-Excitation block.\n",
    "class SENet(nn.Module):\n",
    "    \"\"\"\n",
    "    Squeeze-and-Excitation block for channel-wise attention.\n",
    "    \"\"\"\n",
    "\n",
    "    # First, the input is averaged using an adaptive average pooling layer to create a single value per channel.\n",
    "    # Then, two fully connected layers are used to create the attention weights.\n",
    "    # Finally, the input is multiplied by the attention weights to create the output.\n",
    "    def __init__(self, channel, reduction=16): \n",
    "        super(SENet, self).__init__()\n",
    "        self.avg_pool = nn.AdaptiveAvgPool1d(1)\n",
    "        self.fc = nn.Sequential( # Create the fully connected layers\n",
    "            nn.Linear(channel, channel // reduction, bias=False),\n",
    "            nn.ReLU(inplace=True),\n",
    "            nn.Linear(channel // reduction, channel, bias=False),\n",
    "            nn.Sigmoid()\n",
    "        )\n",
    "\n",
    "    def forward(self, x):\n",
    "        b, c, _ = x.size()\n",
    "        y = self.avg_pool(x).view(b, c)\n",
    "        y = self.fc(y).view(b, c, 1)\n",
    "        return x * y.expand_as(x) # Multiply the input by the attention weights\n",
    "\n",
    "\n",
    "# Second, we define the building block which prepares the input before sending it to the SE block and adds the \n",
    "# global input to the output of the SE block.\n",
    "class SEBasicBlock(nn.Module):\n",
    "    \"\"\"\n",
    "    Basic building block for squeeze-and-excitation networks with other layers.\n",
    "    \"\"\"\n",
    "    expansion = 1\n",
    "\n",
    "    # The block consists of two convolutional layers with batch normalization and ReLU activation functions.\n",
    "    def __init__(self, input_channels, output_channels, stride=1, downsample=None, groups=1,\n",
    "                 base_width=64, dilation=1, norm_layer=None,\n",
    "                 *, reduction=16):\n",
    "        super(SEBasicBlock, self).__init__()\n",
    "        self.conv1 = nn.Conv1d(input_channels, output_channels, stride)\n",
    "        self.bn1 = nn.BatchNorm1d(output_channels)\n",
    "        self.relu = nn.ReLU(inplace=True)\n",
    "        self.conv2 = nn.Conv1d(output_channels, output_channels, 1)\n",
    "        self.bn2 = nn.BatchNorm1d(output_channels)\n",
    "        self.se = SENet(output_channels, reduction) # Send the output in the SE block\n",
    "        self.downsample = downsample\n",
    "        self.stride = stride\n",
    "\n",
    "    def forward(self, x):\n",
    "        residual = x\n",
    "\n",
    "        # First convolutional layer\n",
    "        out = self.conv1(x)\n",
    "        out = self.bn1(out)\n",
    "        out = self.relu(out)\n",
    "\n",
    "        # Second convolutional layer\n",
    "        out = self.conv2(out)\n",
    "        out = self.bn2(out)\n",
    "        out = self.se(out)\n",
    "\n",
    "        # Downsample if necessary\n",
    "        if self.downsample is not None:\n",
    "            residual = self.downsample(x)\n",
    "\n",
    "        # Add residual connection and apply ReLU\n",
    "        out += residual\n",
    "        out = self.relu(out)\n",
    "\n",
    "        return out\n",
    "\n",
    "\n",
    "# Finaly, we create the ResNet architecture with 'blocks_size' number of SEBasicBlock instances put end-to-end.\n",
    "class SEResNet(nn.Module):\n",
    "    \"\"\"\n",
    "    Residual network with squeeze-and-excitation blocks\n",
    "\n",
    "    Downsampling is performed by conv1 when stride != 1 or\n",
    "    the input_channels size is not equal to the output size.\n",
    "    \"\"\"\n",
    "    def __init__(self, output_channels, block_size, mscn_output_channels_times3):\n",
    "        super(SEResNet, self).__init__()\n",
    "        self.input_channels = mscn_output_channels_times3 # Number of feature maps in the input\n",
    "        self.block = SEBasicBlock \n",
    "        self.layer = self._make_layer(self.block, output_channels, block_size)\n",
    "\n",
    "    # Create a layer with 'blocks' number of SEBasicBlock instances.\n",
    "    def _make_layer(self, block, output_channels, blocks, stride = 1):\n",
    "        downsample = self._downsample_layer(self.input_channels, output_channels * block.expansion, stride) # Downsample if necessary\n",
    "\n",
    "        layers = [block(self.input_channels, output_channels, stride, downsample)] # Create the first block with downsample if necessary\n",
    "        self.input_channels = output_channels * block.expansion # Update the number of feature maps depending on the block expansion\n",
    "        layers.extend(block(self.input_channels, output_channels) for _ in range(1, blocks)) # Create the rest of the blocks\n",
    "\n",
    "        return nn.Sequential(*layers)\n",
    "\n",
    "    @staticmethod\n",
    "    def _downsample_layer(input_channels, output_channels, stride):\n",
    "        if stride != 1 or input_channels != output_channels:\n",
    "            return nn.Sequential(\n",
    "                nn.Conv1d(input_channels, output_channels,\n",
    "                          kernel_size = 1, stride = stride, bias = False),\n",
    "                nn.BatchNorm1d(output_channels)\n",
    "            )\n",
    "        return None\n",
    "\n",
    "    def forward(self, x):\n",
    "        return self.layer(x)"
   ]
  },
  {
   "cell_type": "code",
   "execution_count": 9,
   "metadata": {},
   "outputs": [],
   "source": [
    "# Model TransformerEncoder (Transformer Encoder)\n",
    "\n",
    "#la classe encoderwrapper englobe tout:\n",
    "#elle appelle multiple couche de \"transformerencoder\", transformerencoder qui prend en entrée un multiheadattention et un mlp\n",
    "#le sublayer output prend ensuite en entrée les multiheadattention et mlp et applique le modèle\n",
    "#donc: encoderwrapper --> transformerencoder --> sublayeroutput --> convolution, multiheadattention, mlp et ce multiple fois\n",
    "\n",
    "# Utility function\n",
    "def clones(module, N): \n",
    "    \"\"\"\n",
    "    Generate N identical layers\n",
    "\n",
    "    Args:\n",
    "        module (nn.Module): PyTorch module to be cloned\n",
    "        N (int): Number of clones to create\n",
    "\n",
    "    Returns:\n",
    "        nn.ModuleList: List of N cloned PyTorch modules\n",
    "    \"\"\"\n",
    "    return nn.ModuleList([copy.deepcopy(module) for _ in range(N)])\n",
    "\n",
    "\n",
    "class TCN(nn.Module):\n",
    "    \"\"\"\n",
    "    Temporal Convolutional Network with causal padding, residual connections, and batch normalization\n",
    "\n",
    "    When kernel_size equals to zero, the padding is not causal\n",
    "    \"\"\"\n",
    "    def __init__(self, in_channels, out_channels, kernel_size, stride=1, dilation=1, causal=True):\n",
    "        super(TCN, self).__init__()\n",
    "        padding = (kernel_size - 1) * dilation if causal else 0\n",
    "        self.conv1 = nn.Conv1d(in_channels, out_channels, kernel_size, stride, padding, dilation)\n",
    "        self.conv2 = nn.Conv1d(out_channels, out_channels, kernel_size, stride, padding, dilation)\n",
    "        self.bn1 = nn.BatchNorm1d(out_channels)\n",
    "        self.bn2 = nn.BatchNorm1d(out_channels)\n",
    "        self.relu = nn.ReLU()\n",
    "        self.causal = causal\n",
    "        self.tcn_padding = padding\n",
    "        self.downsample = None\n",
    "\n",
    "        if in_channels != out_channels:\n",
    "            self.downsample = nn.Sequential(\n",
    "                nn.Conv1d(in_channels, out_channels, 1),\n",
    "                nn.BatchNorm1d(out_channels)\n",
    "            )\n",
    "\n",
    "    def forward(self, x):\n",
    "        residual = x\n",
    "        out = self.relu(self.bn1(self.conv1(x)))\n",
    "\n",
    "        if self.causal:\n",
    "            out = out[:, :, :-self.tcn_padding]\n",
    "\n",
    "        out = self.bn2(self.conv2(out))\n",
    "\n",
    "        if self.causal:\n",
    "            out = out[:, :, :-self.tcn_padding]\n",
    "\n",
    "        if self.downsample is not None:\n",
    "            residual = self.downsample(x)\n",
    "\n",
    "        out += residual\n",
    "        out = self.relu(out)\n",
    "\n",
    "        return out\n",
    "\n",
    "\n",
    "class MultiHeadAttention(nn.Module):\n",
    "    def __init__(self, num_heads, model_dim, se_reduced_size, dropout=0.1):\n",
    "        super(MultiHeadAttention, self).__init__()\n",
    "        self.tcn = clones(TCN(se_reduced_size, se_reduced_size, kernel_size=7), 2)\n",
    "        # If set batch_first=True, for nn.MultiheadAttention()\n",
    "        # then the input and output tensors are provided as (batch, seq, feature(channels))\n",
    "        self.multihead_attention = nn.MultiheadAttention(se_reduced_size, num_heads, batch_first=True,\n",
    "                                                         dropout=dropout)\n",
    "\n",
    "    def forward(self, query, key, value):\n",
    "        \"\"\"\n",
    "        We swap the seq and channel dimensions for the input tensors to\n",
    "        meet the requirements of nn.MultiheadAttention()\n",
    "        e.g. BioVid, (batch_size=128, seq_len=75, out_channels=30)\n",
    "        :return: dimension (batch_size, out_channels, seq_len)\n",
    "        \"\"\"\n",
    "        query = query.transpose(1, 2)\n",
    "        key = self.tcn[0](key).transpose(1, 2)\n",
    "        value = self.tcn[1](value).transpose(1, 2)\n",
    "        attn_output, attn_output_weights = self.multihead_attention(query, key, value)\n",
    "        # Swap back to the original dimensions\n",
    "        attn_output = attn_output.transpose(1, 2)\n",
    "        return attn_output\n",
    "\n",
    "class MLP(nn.Module):\n",
    "    \"\"\"\n",
    "    Multi-Layer Perceptron\n",
    "    \"\"\"\n",
    "    def __init__(self, model_dim, d_mlp, dropout=0.1):\n",
    "        super(MLP, self).__init__()\n",
    "        self.w_1 = nn.Linear(model_dim, d_mlp)\n",
    "        self.w_2 = nn.Linear(d_mlp, model_dim)\n",
    "        self.dropout = nn.Dropout(dropout)\n",
    "\n",
    "    def forward(self, x):\n",
    "        \"\"\"\n",
    "        MLP forward pass\n",
    "        \"\"\"\n",
    "        return self.w_2(self.dropout(F.relu(self.w_1(x))))\n",
    "\n",
    "\n",
    "class LayerNorm(nn.Module):\n",
    "    \"\"\"\n",
    "    Layer Normalization\n",
    "    \"\"\"\n",
    "    def __init__(self, features, eps=1e-6):\n",
    "        super(LayerNorm, self).__init__()\n",
    "        self.a_2 = nn.Parameter(torch.ones(features))\n",
    "        self.b_2 = nn.Parameter(torch.zeros(features))\n",
    "        self.eps = eps\n",
    "\n",
    "    def forward(self, x):\n",
    "        mean = x.mean(-1, keepdim=True)\n",
    "        std = x.std(-1, keepdim=True)\n",
    "        return self.a_2 * (x - mean) / (std + self.eps) + self.b_2\n",
    "\n",
    "\n",
    "class SublayerOutput(nn.Module):\n",
    "    \"\"\"\n",
    "    Residual connection followed by a layer norm.\n",
    "    \"\"\"\n",
    "    def __init__(self, se_reduced_size, dropout):\n",
    "        super(SublayerOutput, self).__init__()\n",
    "        self.norm = nn.LayerNorm(se_reduced_size)\n",
    "        self.dropout = nn.Dropout(dropout)\n",
    "\n",
    "    def forward(self, x, sublayer):\n",
    "        \"\"\"\n",
    "        Apply residual connection to any sublayer with the same size.\n",
    "        \"\"\"\n",
    "        normalized_x = self.norm(x.transpose(1, 2)).transpose(1, 2)\n",
    "        return x + self.dropout(sublayer(normalized_x)) \n",
    "\n",
    "\n",
    "class TransformerEncoder(nn.Module):\n",
    "    \"\"\"\n",
    "    Transformer Encoder\n",
    "\n",
    "    Integration of MHA and MLP.\n",
    "    Each of these sublayers have residual and layer norm, implemented by SublayerOutput.\n",
    "    \"\"\"\n",
    "    def __init__(self, model_dim, self_attn, feed_forward, se_reduced_size, dropout):\n",
    "        super(TransformerEncoder, self).__init__()\n",
    "        self.self_attn = self_attn\n",
    "        self.feed_forward = feed_forward\n",
    "        self.sublayer_output = clones(SublayerOutput(se_reduced_size, dropout), 2)\n",
    "        self.size = model_dim\n",
    "        self.conv = TCN(se_reduced_size, se_reduced_size, kernel_size=7)\n",
    "\n",
    "    def forward(self, x_in):\n",
    "        query = self.conv(x_in)\n",
    "        # Encoder self-attention\n",
    "        x = self.sublayer_output[0](query, lambda x: self.self_attn(query, x_in, x_in))\n",
    "        return self.sublayer_output[1](x, self.feed_forward)\n",
    "\n",
    "\n",
    "class EncoderWrapper(nn.Module):\n",
    "    \"\"\"\n",
    "    Transformer Encoder Wrapper\n",
    "\n",
    "    It is a stack of N layers of transformer encoder, default N=2.\n",
    "    \"\"\"\n",
    "    def __init__(self, num_heads, model_dim, se_reduced_size, d_mlp, dropout, N):\n",
    "        super(EncoderWrapper, self).__init__()\n",
    "        attn = MultiHeadAttention(num_heads, model_dim, se_reduced_size)\n",
    "\n",
    "        mlp = MLP(model_dim, d_mlp, dropout)\n",
    "        layer = TransformerEncoder(model_dim, deepcopy(attn), deepcopy(mlp), se_reduced_size, dropout)\n",
    "\n",
    "        self.layers = clones(layer, N)\n",
    "        self.norm = nn.LayerNorm(layer.size)\n",
    "\n",
    "    def forward(self, x):\n",
    "        for layer in self.layers:\n",
    "            x = layer(x)\n",
    "        return self.norm(x)\n",
    "\n"
   ]
  },
  {
   "cell_type": "code",
   "execution_count": 10,
   "metadata": {},
   "outputs": [],
   "source": [
    "# Model LatentDecoder (Latent Decoder)\n",
    "\n",
    "class LatentDecoder(nn.Module):        \n",
    "    def __init__(self, num_heads, model_dim, senet_reduced_size, d_mlp, dropout, N):\n",
    "        super(LatentDecoder, self).__init__()\n",
    "        \n",
    "        # Transformer Encoder Wrapper\n",
    "        self.num_heads = num_heads\n",
    "        self.model_dim = model_dim  # Assuming latent_feat_dim = model_dim\n",
    "        self.senet_reduced_size = senet_reduced_size\n",
    "        self.d_mlp = d_mlp  # Dimension for MLP hidden layer\n",
    "        self.dropout = dropout\n",
    "        self.num_layers = N\n",
    "\n",
    "        self.transformer = EncoderWrapper(\n",
    "            num_heads=self.num_heads,\n",
    "            model_dim=self.model_dim,\n",
    "            se_reduced_size=self.senet_reduced_size,\n",
    "            d_mlp=self.d_mlp,\n",
    "            dropout=self.dropout,\n",
    "            N=self.num_layers\n",
    "        )\n",
    "        \n",
    "        # Convolution pour ajuster la dimension (10 -> 64)\n",
    "        self.linear_projection = nn.Conv1d(10, 64, kernel_size=1)\n",
    "        self.batch_norm = nn.BatchNorm1d(64)\n",
    "\n",
    "        # Projection Layer\n",
    "        # self.linear_projection = nn.Conv1d(\n",
    "        #     in_channels=10,  # Dimension actuelle\n",
    "        #     out_channels=64,  # Dimension cible\n",
    "        #     kernel_size=1  # Pas de modification sur la dimension temporelle\n",
    "        # )\n",
    "\n",
    "        # Upsampling Layer\n",
    "        self.upsampling1 = nn.Upsample(size=4096)    \n",
    "    \n",
    "\n",
    "        # Transposed Convolutions\n",
    "        self.deconv1 = nn.ConvTranspose2d(64, 32, kernel_size=5, stride=1, padding=2)\n",
    "        self.deconv2 = nn.ConvTranspose2d(32, 16, kernel_size=5, stride=1, padding=2)\n",
    "        self.deconv3 = nn.ConvTranspose2d(16, 8, kernel_size=5, stride=1, padding=2)\n",
    "        self.deconv4 = nn.ConvTranspose2d(8, 4, kernel_size=5, stride=1, padding=2)\n",
    "        self.deconv5 = nn.ConvTranspose2d(4, 2, kernel_size=5, stride=1, padding=2)\n",
    "        self.deconv6 = nn.ConvTranspose2d(2, 1, kernel_size=5, stride=1, padding=2)\n",
    "        \n",
    "        # Final Linear Layer for exact output size\n",
    "        self.final_linear = nn.Linear(4096, 4097)  # Adjust to match 4097\n",
    "    \n",
    "\n",
    "    def forward(self, latent):\n",
    "\n",
    "        # Transformer Encoder\n",
    "        transformed = self.transformer(latent)  # Output is (batch, seq_len, features)\n",
    "\n",
    "        #print(transformed.shape)\n",
    "\n",
    "        \n",
    "        # Appliquer la projection linéaire avec Conv1d + BatchNorm1d + ReLU\n",
    "        transformed = self.linear_projection(transformed)\n",
    "        transformed = F.relu(self.batch_norm(transformed))\n",
    "        \n",
    "        # print(transformed.shape)\n",
    "\n",
    "        # Upsampling\n",
    "        transformed = self.upsampling1(transformed)\n",
    "\n",
    "        # print(transformed.shape)\n",
    "\n",
    "        transformed = transformed.unsqueeze(1)  # Add channel dimension\n",
    "\n",
    "        transformed = transformed.permute(0, 2, 1, 3)\n",
    "\n",
    "        # print(transformed.shape)\n",
    "\n",
    "        # Transposed Convolutions\n",
    "        #print(transformed.shape)\n",
    "        decoded = F.relu(self.deconv1(transformed))\n",
    "        # print(decoded.shape)\n",
    "        decoded = F.relu(self.deconv2(decoded))\n",
    "        # print(decoded.shape)\n",
    "        decoded = F.relu(self.deconv3(decoded))\n",
    "        # print(decoded.shape)\n",
    "        decoded = F.relu(self.deconv4(decoded)) \n",
    "        # print(decoded.shape)\n",
    "        decoded = F.relu(self.deconv5(decoded)) \n",
    "        # print(decoded.shape)\n",
    "        decoded = self.deconv6(decoded) # Pas de ReLU à la fin\n",
    "        #print(decoded.shape)\n",
    "        \n",
    "        # Final Linear Layer\n",
    "        decoded = decoded.squeeze(1).squeeze(1)  # Remove channel dimension\n",
    "        # print(decoded.shape)\n",
    "        decoded = self.final_linear(decoded)\n",
    "        # print(decoded.shape)\n",
    "        return decoded"
   ]
  },
  {
   "cell_type": "code",
   "execution_count": 11,
   "metadata": {},
   "outputs": [],
   "source": [
    "# Decoder2 (Decoder numero 2)\n",
    "class Decoder2(nn.Module):\n",
    "    \"\"\"\n",
    "    Décode le vecteur latent et renvoie les données reconstruites\n",
    "    \"\"\"\n",
    "\n",
    "    def __init__(self, model_dim, senet_reduced_size):\n",
    "        super(Decoder2, self).__init__()\n",
    "\n",
    "        self.model_dim = model_dim\n",
    "        self.senet_reduced_size = senet_reduced_size\n",
    "\n",
    "        # Couches convolutives\n",
    "        self.conv1 = nn.Conv2d(senet_reduced_size, 32, kernel_size=5, stride=1, padding=2)\n",
    "        self.convbatchNorm1 = nn.BatchNorm2d(32)\n",
    "        self.upsampling1 = nn.Upsample(size=(1, 2048))  # (1, 16, 10, 512)\n",
    "        self.ConvUp1 = nn.ConvTranspose2d(32, 16, kernel_size=1, stride=1)\n",
    "        self.ConvUp2 = nn.ConvTranspose2d(16, 8, kernel_size=1, stride=1)\n",
    "        self.ConvUp3 = nn.ConvTranspose2d(8, 1, kernel_size=1, stride=1)\n",
    "        # Couches denses\n",
    "        self.dense1 = nn.Linear(model_dim*senet_reduced_size, 512)\n",
    "        self.dense2 = nn.Linear(512, 1024)\n",
    "        self.dense3 = nn.Linear(1024, 2048)\n",
    "        # concaténation\n",
    "        self.concatDense1 = nn.Linear(4096, 4097)\n",
    "\n",
    "    def forward(self, z):\n",
    "        # Couches convolutives\n",
    "        # print(z.shape)\n",
    "        z_conv = z.unsqueeze(0)\n",
    "        z_conv = z_conv.permute(1, 2, 0, 3)\n",
    "        # print(z_conv.shape)\n",
    "        z_conv = F.relu(self.convbatchNorm1(self.conv1(z_conv)))\n",
    "        # print(z_conv.shape)\n",
    "        z_conv = self.upsampling1(z_conv)\n",
    "        # print(z_conv.shape)\n",
    "        z_conv = self.ConvUp1(z_conv)\n",
    "        # print(z_conv.shape)\n",
    "        z_conv = self.ConvUp2(z_conv)\n",
    "        # print(z_conv.shape)\n",
    "        z_conv = self.ConvUp3(z_conv)\n",
    "        # print(z_conv.shape)\n",
    "        z_conv = z_conv.squeeze(1).squeeze(1)\n",
    "        # print(z_conv.shape)\n",
    "        # Couches denses\n",
    "        # print(\"z=\",z.shape)\n",
    "        #concatenation de z sur les 2 dernières dimensions\n",
    "        z_dense = z.view(z.shape[0],-1)\n",
    "        # print(z_dense.shape)\n",
    "        z_dense = F.relu(self.dense1(z_dense))\n",
    "        # print(z_dense.shape)\n",
    "        z_dense = F.relu(self.dense2(z_dense))\n",
    "        # print(z_dense.shape)\n",
    "        z_dense = F.relu(self.dense3(z_dense))\n",
    "        # print(z_dense.shape)\n",
    "        #z_dense = z_dense.flatten()\n",
    "        # Concaténation\n",
    "        # print(z_conv.shape)\n",
    "        # print(z_dense.shape)\n",
    "        z_dense = torch.cat((z_conv, z_dense), 1)\n",
    "        # Dernières couches denses\n",
    "        z_final = self.concatDense1(z_dense)\n",
    "        #z_final = z_final.reshape(1, 4097)\n",
    "        return z_final"
   ]
  },
  {
   "cell_type": "code",
   "execution_count": 12,
   "metadata": {},
   "outputs": [],
   "source": [
    "# Residual Decoder (ResidualBlock1D)\n",
    "class ResidualBlock1D(nn.Module):  \n",
    "    \"\"\"  \n",
    "    Un bloc résiduel générique pour les couches 1D avec upsampling.  \n",
    "    \"\"\"  \n",
    "    def __init__(self, in_channels, out_channels, kernel_size=3, upsample_scale=None):  \n",
    "        super(ResidualBlock1D, self).__init__()  \n",
    "        self.upsample = (  \n",
    "            nn.Upsample(scale_factor=upsample_scale, mode='linear', align_corners=True)  \n",
    "            if upsample_scale else None  \n",
    "        )  \n",
    "        self.conv1 = nn.Conv1d(in_channels, out_channels, kernel_size, padding=kernel_size // 2)  \n",
    "        self.batchnorm1 = nn.BatchNorm1d(out_channels)  \n",
    "        self.relu = nn.ReLU()  \n",
    "        self.conv2 = nn.Conv1d(out_channels, out_channels, kernel_size, padding=kernel_size // 2)  \n",
    "        self.batchnorm2 = nn.BatchNorm1d(out_channels)  \n",
    "\n",
    "    def forward(self, x):  \n",
    "        if self.upsample:  \n",
    "            x = self.upsample(x)  \n",
    "        residual = x  \n",
    "        x = self.conv1(x)  \n",
    "        x = self.batchnorm1(x)  \n",
    "        x = self.relu(x)  \n",
    "        x = self.conv2(x)  \n",
    "        x = self.batchnorm2(x)  \n",
    "        x = torch.cat((x, residual), dim=1)  # Connexion résiduelle  \n",
    "        return x  \n",
    "\n",
    "\n",
    "class SignalDecoder(nn.Module):  \n",
    "    def __init__(self, previous_feat_size, model_dim):  \n",
    "        super(SignalDecoder, self).__init__()  \n",
    "\n",
    "        self.feature_size = previous_feat_size  \n",
    "        self.time_size = model_dim  \n",
    "\n",
    "        # Projection initiale du latent space  \n",
    "        # self.linear1 = nn.Linear(self.time_size, 128)  \n",
    "        # self.relu = nn.ReLU()  \n",
    "        # self.conv1 = nn.Conv1d(self.feature_size, 16, kernel_size=3, padding=1)\n",
    "        # self.batchnorm1 = nn.BatchNorm1d(16)\n",
    "\n",
    "        # Définition des blocs résiduels avec upsampling  \n",
    "        self.block1 = ResidualBlock1D(32, 32, kernel_size=3, upsample_scale=2)  \n",
    "        self.block2 = ResidualBlock1D(64, 64, kernel_size=3, upsample_scale=2)  \n",
    "        # self.block3 = ResidualBlock1D(128, 128, kernel_size=5, upsample_scale=2)  \n",
    "        # self.block4 = ResidualBlock1D(128, 64, kernel_size=5, upsample_scale=4)  \n",
    "\n",
    "        self.upsample1 = nn.Upsample(scale_factor=2, mode='linear', align_corners=True)\n",
    "        self.conv1 = nn.Conv1d(128, 64, kernel_size = 3, padding=1) \n",
    "        self.batchnorm1 = nn.BatchNorm1d(64)\n",
    "\n",
    "        self.upsample2 = nn.Upsample(scale_factor=2, mode='linear', align_corners=True)\n",
    "        self.conv2 = nn.Conv1d(64, 1, kernel_size = 3, padding=1) \n",
    "        self.batchnorm2 = nn.BatchNorm1d(1)\n",
    "\n",
    "        # Convolution finale pour réduire les dimensions  \n",
    "        # self.conv5 = nn.Conv1d(256, 32, kernel_size=3, padding=1)  \n",
    "        # self.conv6 = nn.Conv1d(32, 1, kernel_size=3, padding=1)\n",
    "        self.final_projection = nn.Conv1d(1, 1, kernel_size=2, padding=1)  \n",
    "\n",
    "        # Initialisation des poids  \n",
    "        self._initialize_weights()  \n",
    "\n",
    "    def _initialize_weights(self):  \n",
    "        for m in self.modules():  \n",
    "            if isinstance(m, nn.Conv1d) or isinstance(m, nn.Linear):  \n",
    "                nn.init.xavier_uniform_(m.weight)  \n",
    "                if m.bias is not None:  \n",
    "                    nn.init.zeros_(m.bias)  \n",
    "\n",
    "    def forward(self, x):  \n",
    "        # Projection initiale  \n",
    "        # decoder = self.linear1(x)  \n",
    "        # decoder = self.relu(decoder)  \n",
    "        # decoder = self.conv1(decoder)\n",
    "        # decoder = self.batchnorm1(decoder)\n",
    "\n",
    "        # Passer à travers les blocs résiduels  \n",
    "        decoder = self.block1(x)  \n",
    "        decoder = self.block2(decoder)  \n",
    "        # decoder = self.block3(decoder)  \n",
    "        # decoder = self.block4(decoder)  \n",
    "\n",
    "        decoder = self.upsample1(decoder)\n",
    "        decoder = self.conv1(decoder)\n",
    "        decoder = self.batchnorm1(decoder)\n",
    "\n",
    "        decoder = self.upsample2(decoder)\n",
    "        decoder = self.conv2(decoder)\n",
    "        decoder = self.batchnorm2(decoder)\n",
    "\n",
    "        # Convolutions finales et projection  \n",
    "        # decoder = self.conv5(decoder)  \n",
    "        # decoder = self.conv6(decoder)\n",
    "        out = self.final_projection(decoder).squeeze(1)  \n",
    "        return out"
   ]
  },
  {
   "cell_type": "markdown",
   "metadata": {},
   "source": [
    "Instanciation du modèle complet"
   ]
  },
  {
   "cell_type": "code",
   "execution_count": 13,
   "metadata": {},
   "outputs": [
    {
     "name": "stdout",
     "output_type": "stream",
     "text": [
      "----------------------------------------------------------------\n",
      "        Layer (type)               Output Shape         Param #\n",
      "================================================================\n",
      "            Conv1d-1             [-1, 30, 4107]             270\n",
      "       BatchNorm1d-2             [-1, 30, 4107]              60\n",
      "              GELU-3             [-1, 30, 4107]               0\n",
      "         MaxPool1d-4             [-1, 30, 2054]               0\n",
      "           Dropout-5             [-1, 30, 2054]               0\n",
      "            Conv1d-6            [-1, 128, 2055]          30,720\n",
      "       BatchNorm1d-7            [-1, 128, 2055]             256\n",
      "              GELU-8            [-1, 128, 2055]               0\n",
      "            Conv1d-9             [-1, 30, 2056]          30,720\n",
      "      BatchNorm1d-10             [-1, 30, 2056]              60\n",
      "             GELU-11             [-1, 30, 2056]               0\n",
      "        MaxPool1d-12              [-1, 30, 515]               0\n",
      "           Conv1d-13              [-1, 30, 828]           1,140\n",
      "      BatchNorm1d-14              [-1, 30, 828]              60\n",
      "             GELU-15              [-1, 30, 828]               0\n",
      "        MaxPool1d-16              [-1, 30, 207]               0\n",
      "          Dropout-17              [-1, 30, 207]               0\n",
      "           Conv1d-18             [-1, 128, 210]          15,360\n",
      "      BatchNorm1d-19             [-1, 128, 210]             256\n",
      "             GELU-20             [-1, 128, 210]               0\n",
      "           Conv1d-21              [-1, 30, 213]          15,360\n",
      "      BatchNorm1d-22              [-1, 30, 213]              60\n",
      "             GELU-23              [-1, 30, 213]               0\n",
      "        MaxPool1d-24              [-1, 30, 107]               0\n",
      "           Conv1d-25              [-1, 30, 463]           2,010\n",
      "      BatchNorm1d-26              [-1, 30, 463]              60\n",
      "             GELU-27              [-1, 30, 463]               0\n",
      "        MaxPool1d-28               [-1, 30, 57]               0\n",
      "          Dropout-29               [-1, 30, 57]               0\n",
      "           Conv1d-30              [-1, 128, 56]          30,720\n",
      "      BatchNorm1d-31              [-1, 128, 56]             256\n",
      "             GELU-32              [-1, 128, 56]               0\n",
      "           Conv1d-33               [-1, 30, 55]          30,720\n",
      "      BatchNorm1d-34               [-1, 30, 55]              60\n",
      "             GELU-35               [-1, 30, 55]               0\n",
      "        MaxPool1d-36               [-1, 30, 28]               0\n",
      "           Linear-37              [-1, 30, 256]         132,096\n",
      "           Linear-38              [-1, 30, 256]          27,648\n",
      "           Linear-39              [-1, 30, 256]           7,424\n",
      "          Dropout-40              [-1, 90, 256]               0\n",
      "             MSCN-41  [[-1, 90, 256], [-1, 30, 515], [-1, 30, 107], [-1, 30, 28]]               0\n",
      "           Conv1d-42              [-1, 32, 256]           2,912\n",
      "      BatchNorm1d-43              [-1, 32, 256]              64\n",
      "             ReLU-44              [-1, 32, 256]               0\n",
      "           Conv1d-45              [-1, 32, 256]           1,056\n",
      "      BatchNorm1d-46              [-1, 32, 256]              64\n",
      "AdaptiveAvgPool1d-47                [-1, 32, 1]               0\n",
      "           Linear-48                    [-1, 2]              64\n",
      "             ReLU-49                    [-1, 2]               0\n",
      "           Linear-50                   [-1, 32]              64\n",
      "          Sigmoid-51                   [-1, 32]               0\n",
      "            SENet-52              [-1, 32, 256]               0\n",
      "           Conv1d-53              [-1, 32, 256]           2,880\n",
      "      BatchNorm1d-54              [-1, 32, 256]              64\n",
      "             ReLU-55              [-1, 32, 256]               0\n",
      "     SEBasicBlock-56              [-1, 32, 256]               0\n",
      "         SEResNet-57              [-1, 32, 256]               0\n",
      "           Conv1d-58              [-1, 32, 262]           7,200\n",
      "      BatchNorm1d-59              [-1, 32, 262]              64\n",
      "             ReLU-60              [-1, 32, 262]               0\n",
      "           Conv1d-61              [-1, 32, 262]           7,200\n",
      "      BatchNorm1d-62              [-1, 32, 262]              64\n",
      "             ReLU-63              [-1, 32, 256]               0\n",
      "              TCN-64              [-1, 32, 256]               0\n",
      "        LayerNorm-65              [-1, 256, 32]              64\n",
      "           Conv1d-66              [-1, 32, 262]           7,200\n",
      "      BatchNorm1d-67              [-1, 32, 262]              64\n",
      "             ReLU-68              [-1, 32, 262]               0\n",
      "           Conv1d-69              [-1, 32, 262]           7,200\n",
      "      BatchNorm1d-70              [-1, 32, 262]              64\n",
      "             ReLU-71              [-1, 32, 256]               0\n",
      "              TCN-72              [-1, 32, 256]               0\n",
      "           Conv1d-73              [-1, 32, 262]           7,200\n",
      "      BatchNorm1d-74              [-1, 32, 262]              64\n",
      "             ReLU-75              [-1, 32, 262]               0\n",
      "           Conv1d-76              [-1, 32, 262]           7,200\n",
      "      BatchNorm1d-77              [-1, 32, 262]              64\n",
      "             ReLU-78              [-1, 32, 256]               0\n",
      "              TCN-79              [-1, 32, 256]               0\n",
      "MultiheadAttention-80  [[-1, 256, 32], [-1, 256, 256]]               0\n",
      "MultiHeadAttention-81              [-1, 32, 256]               0\n",
      "          Dropout-82              [-1, 32, 256]               0\n",
      "   SublayerOutput-83              [-1, 32, 256]               0\n",
      "        LayerNorm-84              [-1, 256, 32]              64\n",
      "           Linear-85              [-1, 32, 128]          32,896\n",
      "          Dropout-86              [-1, 32, 128]               0\n",
      "           Linear-87              [-1, 32, 256]          33,024\n",
      "              MLP-88              [-1, 32, 256]               0\n",
      "          Dropout-89              [-1, 32, 256]               0\n",
      "   SublayerOutput-90              [-1, 32, 256]               0\n",
      "TransformerEncoder-91              [-1, 32, 256]               0\n",
      "           Conv1d-92              [-1, 32, 262]           7,200\n",
      "      BatchNorm1d-93              [-1, 32, 262]              64\n",
      "             ReLU-94              [-1, 32, 262]               0\n",
      "           Conv1d-95              [-1, 32, 262]           7,200\n",
      "      BatchNorm1d-96              [-1, 32, 262]              64\n",
      "             ReLU-97              [-1, 32, 256]               0\n",
      "              TCN-98              [-1, 32, 256]               0\n",
      "        LayerNorm-99              [-1, 256, 32]              64\n",
      "          Conv1d-100              [-1, 32, 262]           7,200\n",
      "     BatchNorm1d-101              [-1, 32, 262]              64\n",
      "            ReLU-102              [-1, 32, 262]               0\n",
      "          Conv1d-103              [-1, 32, 262]           7,200\n",
      "     BatchNorm1d-104              [-1, 32, 262]              64\n",
      "            ReLU-105              [-1, 32, 256]               0\n",
      "             TCN-106              [-1, 32, 256]               0\n",
      "          Conv1d-107              [-1, 32, 262]           7,200\n",
      "     BatchNorm1d-108              [-1, 32, 262]              64\n",
      "            ReLU-109              [-1, 32, 262]               0\n",
      "          Conv1d-110              [-1, 32, 262]           7,200\n",
      "     BatchNorm1d-111              [-1, 32, 262]              64\n",
      "            ReLU-112              [-1, 32, 256]               0\n",
      "             TCN-113              [-1, 32, 256]               0\n",
      "MultiheadAttention-114  [[-1, 256, 32], [-1, 256, 256]]               0\n",
      "MultiHeadAttention-115              [-1, 32, 256]               0\n",
      "         Dropout-116              [-1, 32, 256]               0\n",
      "  SublayerOutput-117              [-1, 32, 256]               0\n",
      "       LayerNorm-118              [-1, 256, 32]              64\n",
      "          Linear-119              [-1, 32, 128]          32,896\n",
      "         Dropout-120              [-1, 32, 128]               0\n",
      "          Linear-121              [-1, 32, 256]          33,024\n",
      "             MLP-122              [-1, 32, 256]               0\n",
      "         Dropout-123              [-1, 32, 256]               0\n",
      "  SublayerOutput-124              [-1, 32, 256]               0\n",
      "TransformerEncoder-125              [-1, 32, 256]               0\n",
      "          Conv1d-126              [-1, 32, 262]           7,200\n",
      "     BatchNorm1d-127              [-1, 32, 262]              64\n",
      "            ReLU-128              [-1, 32, 262]               0\n",
      "          Conv1d-129              [-1, 32, 262]           7,200\n",
      "     BatchNorm1d-130              [-1, 32, 262]              64\n",
      "            ReLU-131              [-1, 32, 256]               0\n",
      "             TCN-132              [-1, 32, 256]               0\n",
      "       LayerNorm-133              [-1, 256, 32]              64\n",
      "          Conv1d-134              [-1, 32, 262]           7,200\n",
      "     BatchNorm1d-135              [-1, 32, 262]              64\n",
      "            ReLU-136              [-1, 32, 262]               0\n",
      "          Conv1d-137              [-1, 32, 262]           7,200\n",
      "     BatchNorm1d-138              [-1, 32, 262]              64\n",
      "            ReLU-139              [-1, 32, 256]               0\n",
      "             TCN-140              [-1, 32, 256]               0\n",
      "          Conv1d-141              [-1, 32, 262]           7,200\n",
      "     BatchNorm1d-142              [-1, 32, 262]              64\n",
      "            ReLU-143              [-1, 32, 262]               0\n",
      "          Conv1d-144              [-1, 32, 262]           7,200\n",
      "     BatchNorm1d-145              [-1, 32, 262]              64\n",
      "            ReLU-146              [-1, 32, 256]               0\n",
      "             TCN-147              [-1, 32, 256]               0\n",
      "MultiheadAttention-148  [[-1, 256, 32], [-1, 256, 256]]               0\n",
      "MultiHeadAttention-149              [-1, 32, 256]               0\n",
      "         Dropout-150              [-1, 32, 256]               0\n",
      "  SublayerOutput-151              [-1, 32, 256]               0\n",
      "       LayerNorm-152              [-1, 256, 32]              64\n",
      "          Linear-153              [-1, 32, 128]          32,896\n",
      "         Dropout-154              [-1, 32, 128]               0\n",
      "          Linear-155              [-1, 32, 256]          33,024\n",
      "             MLP-156              [-1, 32, 256]               0\n",
      "         Dropout-157              [-1, 32, 256]               0\n",
      "  SublayerOutput-158              [-1, 32, 256]               0\n",
      "TransformerEncoder-159              [-1, 32, 256]               0\n",
      "          Conv1d-160              [-1, 32, 262]           7,200\n",
      "     BatchNorm1d-161              [-1, 32, 262]              64\n",
      "            ReLU-162              [-1, 32, 262]               0\n",
      "          Conv1d-163              [-1, 32, 262]           7,200\n",
      "     BatchNorm1d-164              [-1, 32, 262]              64\n",
      "            ReLU-165              [-1, 32, 256]               0\n",
      "             TCN-166              [-1, 32, 256]               0\n",
      "       LayerNorm-167              [-1, 256, 32]              64\n",
      "          Conv1d-168              [-1, 32, 262]           7,200\n",
      "     BatchNorm1d-169              [-1, 32, 262]              64\n",
      "            ReLU-170              [-1, 32, 262]               0\n",
      "          Conv1d-171              [-1, 32, 262]           7,200\n",
      "     BatchNorm1d-172              [-1, 32, 262]              64\n",
      "            ReLU-173              [-1, 32, 256]               0\n",
      "             TCN-174              [-1, 32, 256]               0\n",
      "          Conv1d-175              [-1, 32, 262]           7,200\n",
      "     BatchNorm1d-176              [-1, 32, 262]              64\n",
      "            ReLU-177              [-1, 32, 262]               0\n",
      "          Conv1d-178              [-1, 32, 262]           7,200\n",
      "     BatchNorm1d-179              [-1, 32, 262]              64\n",
      "            ReLU-180              [-1, 32, 256]               0\n",
      "             TCN-181              [-1, 32, 256]               0\n",
      "MultiheadAttention-182  [[-1, 256, 32], [-1, 256, 256]]               0\n",
      "MultiHeadAttention-183              [-1, 32, 256]               0\n",
      "         Dropout-184              [-1, 32, 256]               0\n",
      "  SublayerOutput-185              [-1, 32, 256]               0\n",
      "       LayerNorm-186              [-1, 256, 32]              64\n",
      "          Linear-187              [-1, 32, 128]          32,896\n",
      "         Dropout-188              [-1, 32, 128]               0\n",
      "          Linear-189              [-1, 32, 256]          33,024\n",
      "             MLP-190              [-1, 32, 256]               0\n",
      "         Dropout-191              [-1, 32, 256]               0\n",
      "  SublayerOutput-192              [-1, 32, 256]               0\n",
      "TransformerEncoder-193              [-1, 32, 256]               0\n",
      "          Conv1d-194              [-1, 32, 262]           7,200\n",
      "     BatchNorm1d-195              [-1, 32, 262]              64\n",
      "            ReLU-196              [-1, 32, 262]               0\n",
      "          Conv1d-197              [-1, 32, 262]           7,200\n",
      "     BatchNorm1d-198              [-1, 32, 262]              64\n",
      "            ReLU-199              [-1, 32, 256]               0\n",
      "             TCN-200              [-1, 32, 256]               0\n",
      "       LayerNorm-201              [-1, 256, 32]              64\n",
      "          Conv1d-202              [-1, 32, 262]           7,200\n",
      "     BatchNorm1d-203              [-1, 32, 262]              64\n",
      "            ReLU-204              [-1, 32, 262]               0\n",
      "          Conv1d-205              [-1, 32, 262]           7,200\n",
      "     BatchNorm1d-206              [-1, 32, 262]              64\n",
      "            ReLU-207              [-1, 32, 256]               0\n",
      "             TCN-208              [-1, 32, 256]               0\n",
      "          Conv1d-209              [-1, 32, 262]           7,200\n",
      "     BatchNorm1d-210              [-1, 32, 262]              64\n",
      "            ReLU-211              [-1, 32, 262]               0\n",
      "          Conv1d-212              [-1, 32, 262]           7,200\n",
      "     BatchNorm1d-213              [-1, 32, 262]              64\n",
      "            ReLU-214              [-1, 32, 256]               0\n",
      "             TCN-215              [-1, 32, 256]               0\n",
      "MultiheadAttention-216  [[-1, 256, 32], [-1, 256, 256]]               0\n",
      "MultiHeadAttention-217              [-1, 32, 256]               0\n",
      "         Dropout-218              [-1, 32, 256]               0\n",
      "  SublayerOutput-219              [-1, 32, 256]               0\n",
      "       LayerNorm-220              [-1, 256, 32]              64\n",
      "          Linear-221              [-1, 32, 128]          32,896\n",
      "         Dropout-222              [-1, 32, 128]               0\n",
      "          Linear-223              [-1, 32, 256]          33,024\n",
      "             MLP-224              [-1, 32, 256]               0\n",
      "         Dropout-225              [-1, 32, 256]               0\n",
      "  SublayerOutput-226              [-1, 32, 256]               0\n",
      "TransformerEncoder-227              [-1, 32, 256]               0\n",
      "          Conv1d-228              [-1, 32, 262]           7,200\n",
      "     BatchNorm1d-229              [-1, 32, 262]              64\n",
      "            ReLU-230              [-1, 32, 262]               0\n",
      "          Conv1d-231              [-1, 32, 262]           7,200\n",
      "     BatchNorm1d-232              [-1, 32, 262]              64\n",
      "            ReLU-233              [-1, 32, 256]               0\n",
      "             TCN-234              [-1, 32, 256]               0\n",
      "       LayerNorm-235              [-1, 256, 32]              64\n",
      "          Conv1d-236              [-1, 32, 262]           7,200\n",
      "     BatchNorm1d-237              [-1, 32, 262]              64\n",
      "            ReLU-238              [-1, 32, 262]               0\n",
      "          Conv1d-239              [-1, 32, 262]           7,200\n",
      "     BatchNorm1d-240              [-1, 32, 262]              64\n",
      "            ReLU-241              [-1, 32, 256]               0\n",
      "             TCN-242              [-1, 32, 256]               0\n",
      "          Conv1d-243              [-1, 32, 262]           7,200\n",
      "     BatchNorm1d-244              [-1, 32, 262]              64\n",
      "            ReLU-245              [-1, 32, 262]               0\n",
      "          Conv1d-246              [-1, 32, 262]           7,200\n",
      "     BatchNorm1d-247              [-1, 32, 262]              64\n",
      "            ReLU-248              [-1, 32, 256]               0\n",
      "             TCN-249              [-1, 32, 256]               0\n",
      "MultiheadAttention-250  [[-1, 256, 32], [-1, 256, 256]]               0\n",
      "MultiHeadAttention-251              [-1, 32, 256]               0\n",
      "         Dropout-252              [-1, 32, 256]               0\n",
      "  SublayerOutput-253              [-1, 32, 256]               0\n",
      "       LayerNorm-254              [-1, 256, 32]              64\n",
      "          Linear-255              [-1, 32, 128]          32,896\n",
      "         Dropout-256              [-1, 32, 128]               0\n",
      "          Linear-257              [-1, 32, 256]          33,024\n",
      "             MLP-258              [-1, 32, 256]               0\n",
      "         Dropout-259              [-1, 32, 256]               0\n",
      "  SublayerOutput-260              [-1, 32, 256]               0\n",
      "TransformerEncoder-261              [-1, 32, 256]               0\n",
      "          Conv1d-262              [-1, 32, 262]           7,200\n",
      "     BatchNorm1d-263              [-1, 32, 262]              64\n",
      "            ReLU-264              [-1, 32, 262]               0\n",
      "          Conv1d-265              [-1, 32, 262]           7,200\n",
      "     BatchNorm1d-266              [-1, 32, 262]              64\n",
      "            ReLU-267              [-1, 32, 256]               0\n",
      "             TCN-268              [-1, 32, 256]               0\n",
      "       LayerNorm-269              [-1, 256, 32]              64\n",
      "          Conv1d-270              [-1, 32, 262]           7,200\n",
      "     BatchNorm1d-271              [-1, 32, 262]              64\n",
      "            ReLU-272              [-1, 32, 262]               0\n",
      "          Conv1d-273              [-1, 32, 262]           7,200\n",
      "     BatchNorm1d-274              [-1, 32, 262]              64\n",
      "            ReLU-275              [-1, 32, 256]               0\n",
      "             TCN-276              [-1, 32, 256]               0\n",
      "          Conv1d-277              [-1, 32, 262]           7,200\n",
      "     BatchNorm1d-278              [-1, 32, 262]              64\n",
      "            ReLU-279              [-1, 32, 262]               0\n",
      "          Conv1d-280              [-1, 32, 262]           7,200\n",
      "     BatchNorm1d-281              [-1, 32, 262]              64\n",
      "            ReLU-282              [-1, 32, 256]               0\n",
      "             TCN-283              [-1, 32, 256]               0\n",
      "MultiheadAttention-284  [[-1, 256, 32], [-1, 256, 256]]               0\n",
      "MultiHeadAttention-285              [-1, 32, 256]               0\n",
      "         Dropout-286              [-1, 32, 256]               0\n",
      "  SublayerOutput-287              [-1, 32, 256]               0\n",
      "       LayerNorm-288              [-1, 256, 32]              64\n",
      "          Linear-289              [-1, 32, 128]          32,896\n",
      "         Dropout-290              [-1, 32, 128]               0\n",
      "          Linear-291              [-1, 32, 256]          33,024\n",
      "             MLP-292              [-1, 32, 256]               0\n",
      "         Dropout-293              [-1, 32, 256]               0\n",
      "  SublayerOutput-294              [-1, 32, 256]               0\n",
      "TransformerEncoder-295              [-1, 32, 256]               0\n",
      "          Conv1d-296              [-1, 32, 262]           7,200\n",
      "     BatchNorm1d-297              [-1, 32, 262]              64\n",
      "            ReLU-298              [-1, 32, 262]               0\n",
      "          Conv1d-299              [-1, 32, 262]           7,200\n",
      "     BatchNorm1d-300              [-1, 32, 262]              64\n",
      "            ReLU-301              [-1, 32, 256]               0\n",
      "             TCN-302              [-1, 32, 256]               0\n",
      "       LayerNorm-303              [-1, 256, 32]              64\n",
      "          Conv1d-304              [-1, 32, 262]           7,200\n",
      "     BatchNorm1d-305              [-1, 32, 262]              64\n",
      "            ReLU-306              [-1, 32, 262]               0\n",
      "          Conv1d-307              [-1, 32, 262]           7,200\n",
      "     BatchNorm1d-308              [-1, 32, 262]              64\n",
      "            ReLU-309              [-1, 32, 256]               0\n",
      "             TCN-310              [-1, 32, 256]               0\n",
      "          Conv1d-311              [-1, 32, 262]           7,200\n",
      "     BatchNorm1d-312              [-1, 32, 262]              64\n",
      "            ReLU-313              [-1, 32, 262]               0\n",
      "          Conv1d-314              [-1, 32, 262]           7,200\n",
      "     BatchNorm1d-315              [-1, 32, 262]              64\n",
      "            ReLU-316              [-1, 32, 256]               0\n",
      "             TCN-317              [-1, 32, 256]               0\n",
      "MultiheadAttention-318  [[-1, 256, 32], [-1, 256, 256]]               0\n",
      "MultiHeadAttention-319              [-1, 32, 256]               0\n",
      "         Dropout-320              [-1, 32, 256]               0\n",
      "  SublayerOutput-321              [-1, 32, 256]               0\n",
      "       LayerNorm-322              [-1, 256, 32]              64\n",
      "          Linear-323              [-1, 32, 128]          32,896\n",
      "         Dropout-324              [-1, 32, 128]               0\n",
      "          Linear-325              [-1, 32, 256]          33,024\n",
      "             MLP-326              [-1, 32, 256]               0\n",
      "         Dropout-327              [-1, 32, 256]               0\n",
      "  SublayerOutput-328              [-1, 32, 256]               0\n",
      "TransformerEncoder-329              [-1, 32, 256]               0\n",
      "       LayerNorm-330              [-1, 32, 256]             512\n",
      "  EncoderWrapper-331              [-1, 32, 256]               0\n",
      "        Upsample-332              [-1, 32, 512]               0\n",
      "          Conv1d-333              [-1, 32, 512]           3,104\n",
      "     BatchNorm1d-334              [-1, 32, 512]              64\n",
      "            ReLU-335              [-1, 32, 512]               0\n",
      "          Conv1d-336              [-1, 32, 512]           3,104\n",
      "     BatchNorm1d-337              [-1, 32, 512]              64\n",
      " ResidualBlock1D-338              [-1, 64, 512]               0\n",
      "        Upsample-339             [-1, 64, 1024]               0\n",
      "          Conv1d-340             [-1, 64, 1024]          12,352\n",
      "     BatchNorm1d-341             [-1, 64, 1024]             128\n",
      "            ReLU-342             [-1, 64, 1024]               0\n",
      "          Conv1d-343             [-1, 64, 1024]          12,352\n",
      "     BatchNorm1d-344             [-1, 64, 1024]             128\n",
      " ResidualBlock1D-345            [-1, 128, 1024]               0\n",
      "        Upsample-346            [-1, 128, 2048]               0\n",
      "          Conv1d-347             [-1, 64, 2048]          24,640\n",
      "     BatchNorm1d-348             [-1, 64, 2048]             128\n",
      "        Upsample-349             [-1, 64, 4096]               0\n",
      "          Conv1d-350              [-1, 1, 4096]             193\n",
      "     BatchNorm1d-351              [-1, 1, 4096]               2\n",
      "          Conv1d-352              [-1, 1, 4097]               3\n",
      "   SignalDecoder-353                 [-1, 4097]               0\n",
      "================================================================\n",
      "Total params: 1,266,314\n",
      "Trainable params: 1,266,314\n",
      "Non-trainable params: 0\n",
      "----------------------------------------------------------------\n",
      "Input size (MB): 0.02\n",
      "Forward/backward pass size (MB): 10744.85\n",
      "Params size (MB): 4.83\n",
      "Estimated Total Size (MB): 10749.69\n",
      "----------------------------------------------------------------\n",
      "Total number of parameters: 1300106\n",
      "Latent space dimensions: torch.Size([1, 32, 256])\n",
      "Flattened latent space shape: (1, 8192)\n"
     ]
    },
    {
     "name": "stderr",
     "output_type": "stream",
     "text": [
      "d:\\debar\\anaconda3\\envs\\envPTI\\Lib\\site-packages\\torchsummary\\torchsummary.py:93: RuntimeWarning: overflow encountered in scalar add\n",
      "  total_output += np.prod(summary[layer][\"output_shape\"])\n"
     ]
    }
   ],
   "source": [
    "# PainAttnNet model\n",
    "\"\"\"\n",
    "main_painAttnNet.py\n",
    "\n",
    "PainAttnNet model: The main model of the paper\n",
    "Modules: MSCN, SEResNet, and Transformer Encoder\n",
    "\"\"\"\n",
    "\n",
    "class PainAttnNet(nn.Module):\n",
    "    \"\"\"\n",
    "    PainAttnNet model\n",
    "    \"\"\"\n",
    "    def __init__(self):\n",
    "        super(PainAttnNet, self).__init__()\n",
    "\n",
    "        # Number of Transformer Encoder Stacks\n",
    "        N = 8\n",
    "        # Model dimension from MSCN\n",
    "        #model_dim = 75\n",
    "        model_dim = 256\n",
    "        # Dimension of MLP in Transformer Encoder\n",
    "        d_mlp = 128\n",
    "        # Number of attention heads\n",
    "        num_heads = 8\n",
    "        dropout = 0.1\n",
    "        # Output SEResNet size\n",
    "        #senet_reduced_size = 30 \n",
    "        senet_reduced_size = 32\n",
    "        #num_classes\n",
    "        #num_classes=5\n",
    "        \n",
    "        #mscn output channels\n",
    "        #mscn_output_channels=30\n",
    "        mscn_output_channels=30 #anciennement 64\n",
    "        #Paramètres MSCN\n",
    "        kernel_size_short=9 #anciennement 18\n",
    "        kernel_size_medium=38 #anciennement 76\n",
    "        kernel_size_long=67 #anciennement 134\n",
    "        stride_short=1 #anciennement 2\n",
    "        stride_medium=5 #anciennement 10\n",
    "        stride_long=9 #anciennement 17\n",
    "\n",
    "\n",
    "        # Modules\n",
    "        self.mscn = MSCN(\n",
    "            mscn_output_channels, model_dim,\n",
    "            kernel_size_short, kernel_size_medium, kernel_size_long,\n",
    "            stride_short, stride_medium, stride_long\n",
    "        )\n",
    "        self.seresnet = SEResNet(senet_reduced_size, 1, mscn_output_channels * 3)\n",
    "        self.encoderWrapper = EncoderWrapper(num_heads, model_dim, senet_reduced_size, d_mlp, dropout, N)\n",
    "        self.decoder = SignalDecoder(senet_reduced_size, model_dim)\n",
    "\n",
    "    def forward(self, x):\n",
    "        \"\"\"\n",
    "        Forward pass through the model.\n",
    "        \"\"\"\n",
    "        # Multi-Scale Convolutional Network\n",
    "        mscn_feat, _, _, _ = self.mscn(x)\n",
    "        \n",
    "        # SEResNet\n",
    "        se_feat = self.seresnet(mscn_feat)\n",
    "        \n",
    "        # Transformer Encoder\n",
    "        transformer_feat = self.encoderWrapper(se_feat)\n",
    "        \n",
    "        # Decoder\n",
    "        decoded_output = self.decoder(transformer_feat)\n",
    "        \n",
    "        return decoded_output, transformer_feat  # Retourner les features latents pour l'analyse\n",
    "\n",
    "    def extract_latent_space(self, x):\n",
    "        \"\"\"\n",
    "        Extract latent space representation from the model.\n",
    "        \"\"\"\n",
    "        _, transformer_feat = self.forward(x)\n",
    "        return transformer_feat\n",
    "\n",
    "# Instanciation du modèle\n",
    "device = torch.device(\"cuda\" if torch.cuda.is_available() else \"cpu\")\n",
    "model = PainAttnNet().to(device)\n",
    "\n",
    "# Résumé du modèle\n",
    "summary(model, input_size=(1, 4097))\n",
    "print(f\"Total number of parameters: {sum(p.numel() for p in model.parameters())}\")\n",
    "\n",
    "# Exemple d'extraction d'espace latent\n",
    "x = torch.randn(1, 1, 4097).to(device)  # Exemple de signal d'entrée\n",
    "_, latent_space = model(x)  # Extraire l'espace latent\n",
    "print(f\"Latent space dimensions: {latent_space.shape}\")\n",
    "\n",
    "# Préparation pour l'analyse PCA\n",
    "latent_np = latent_space.view(latent_space.shape[0], -1).cpu().detach().numpy()\n",
    "print(f\"Flattened latent space shape: {latent_np.shape}\")\n"
   ]
  },
  {
   "cell_type": "code",
   "execution_count": null,
   "metadata": {},
   "outputs": [
    {
     "name": "stderr",
     "output_type": "stream",
     "text": [
      "d:\\debar\\anaconda3\\envs\\envPTI\\Lib\\site-packages\\torch\\optim\\lr_scheduler.py:62: UserWarning: The verbose parameter is deprecated. Please use get_last_lr() to access the learning rate.\n",
      "  warnings.warn(\n",
      "Epoch 1/100 [Training]: 100%|██████████| 200/200 [00:50<00:00,  3.99it/s]\n",
      "Epoch 1/100 [Validation]: 100%|██████████| 50/50 [00:08<00:00,  5.71it/s]\n"
     ]
    },
    {
     "name": "stdout",
     "output_type": "stream",
     "text": [
      "Epoch 1: Train Loss: 1.024372, Valid Loss: 1.003641, Reconstruction Error: 1.003641\n"
     ]
    },
    {
     "name": "stderr",
     "output_type": "stream",
     "text": [
      "Epoch 2/100 [Training]: 100%|██████████| 200/200 [00:45<00:00,  4.39it/s]\n",
      "Epoch 2/100 [Validation]: 100%|██████████| 50/50 [00:08<00:00,  5.90it/s]\n"
     ]
    },
    {
     "name": "stdout",
     "output_type": "stream",
     "text": [
      "Epoch 2: Train Loss: 0.999602, Valid Loss: 1.005220, Reconstruction Error: 1.005220\n"
     ]
    },
    {
     "name": "stderr",
     "output_type": "stream",
     "text": [
      "Epoch 3/100 [Training]: 100%|██████████| 200/200 [00:45<00:00,  4.38it/s]\n",
      "Epoch 3/100 [Validation]: 100%|██████████| 50/50 [00:09<00:00,  5.22it/s]\n"
     ]
    },
    {
     "name": "stdout",
     "output_type": "stream",
     "text": [
      "Epoch 3: Train Loss: 0.999009, Valid Loss: 1.003989, Reconstruction Error: 1.003989\n"
     ]
    },
    {
     "name": "stderr",
     "output_type": "stream",
     "text": [
      "Epoch 4/100 [Training]: 100%|██████████| 200/200 [00:46<00:00,  4.30it/s]\n",
      "Epoch 4/100 [Validation]: 100%|██████████| 50/50 [00:08<00:00,  5.93it/s]\n"
     ]
    },
    {
     "name": "stdout",
     "output_type": "stream",
     "text": [
      "Epoch 4: Train Loss: 0.998807, Valid Loss: 1.007527, Reconstruction Error: 1.007527\n"
     ]
    },
    {
     "name": "stderr",
     "output_type": "stream",
     "text": [
      "Epoch 5/100 [Training]: 100%|██████████| 200/200 [00:53<00:00,  3.75it/s]\n",
      "Epoch 5/100 [Validation]: 100%|██████████| 50/50 [00:10<00:00,  4.97it/s]\n"
     ]
    },
    {
     "name": "stdout",
     "output_type": "stream",
     "text": [
      "Epoch 5: Train Loss: 0.998226, Valid Loss: 1.003867, Reconstruction Error: 1.003867\n"
     ]
    },
    {
     "name": "stderr",
     "output_type": "stream",
     "text": [
      "Epoch 6/100 [Training]: 100%|██████████| 200/200 [00:55<00:00,  3.58it/s]\n",
      "Epoch 6/100 [Validation]: 100%|██████████| 50/50 [00:10<00:00,  4.60it/s]\n"
     ]
    },
    {
     "name": "stdout",
     "output_type": "stream",
     "text": [
      "Epoch 6: Train Loss: 0.997954, Valid Loss: 1.003679, Reconstruction Error: 1.003679\n"
     ]
    },
    {
     "name": "stderr",
     "output_type": "stream",
     "text": [
      "Epoch 7/100 [Training]: 100%|██████████| 200/200 [00:51<00:00,  3.90it/s]\n",
      "Epoch 7/100 [Validation]: 100%|██████████| 50/50 [00:08<00:00,  6.15it/s]\n"
     ]
    },
    {
     "name": "stdout",
     "output_type": "stream",
     "text": [
      "Epoch 7: Train Loss: 0.997780, Valid Loss: 1.002388, Reconstruction Error: 1.002388\n"
     ]
    },
    {
     "name": "stderr",
     "output_type": "stream",
     "text": [
      "Epoch 8/100 [Training]: 100%|██████████| 200/200 [00:52<00:00,  3.83it/s]\n",
      "Epoch 8/100 [Validation]: 100%|██████████| 50/50 [00:10<00:00,  4.87it/s]\n"
     ]
    },
    {
     "name": "stdout",
     "output_type": "stream",
     "text": [
      "Epoch 8: Train Loss: 0.997677, Valid Loss: 1.004097, Reconstruction Error: 1.004097\n"
     ]
    },
    {
     "name": "stderr",
     "output_type": "stream",
     "text": [
      "Epoch 9/100 [Training]: 100%|██████████| 200/200 [00:57<00:00,  3.49it/s]\n",
      "Epoch 9/100 [Validation]: 100%|██████████| 50/50 [00:09<00:00,  5.21it/s]\n"
     ]
    },
    {
     "name": "stdout",
     "output_type": "stream",
     "text": [
      "Epoch 9: Train Loss: 0.997667, Valid Loss: 1.001081, Reconstruction Error: 1.001081\n"
     ]
    },
    {
     "name": "stderr",
     "output_type": "stream",
     "text": [
      "Epoch 10/100 [Training]: 100%|██████████| 200/200 [00:52<00:00,  3.78it/s]\n",
      "Epoch 10/100 [Validation]: 100%|██████████| 50/50 [00:08<00:00,  6.20it/s]\n"
     ]
    },
    {
     "name": "stdout",
     "output_type": "stream",
     "text": [
      "Epoch 10: Train Loss: 0.997732, Valid Loss: 1.002071, Reconstruction Error: 1.002071\n"
     ]
    },
    {
     "name": "stderr",
     "output_type": "stream",
     "text": [
      "Epoch 11/100 [Training]: 100%|██████████| 200/200 [00:50<00:00,  3.97it/s]\n",
      "Epoch 11/100 [Validation]: 100%|██████████| 50/50 [00:09<00:00,  5.11it/s]\n"
     ]
    },
    {
     "name": "stdout",
     "output_type": "stream",
     "text": [
      "Epoch 11: Train Loss: 0.997538, Valid Loss: 1.002107, Reconstruction Error: 1.002107\n"
     ]
    },
    {
     "name": "stderr",
     "output_type": "stream",
     "text": [
      "Epoch 12/100 [Training]: 100%|██████████| 200/200 [00:56<00:00,  3.56it/s]\n",
      "Epoch 12/100 [Validation]: 100%|██████████| 50/50 [00:10<00:00,  4.90it/s]\n"
     ]
    },
    {
     "name": "stdout",
     "output_type": "stream",
     "text": [
      "Epoch 12: Train Loss: 0.997602, Valid Loss: 1.002466, Reconstruction Error: 1.002466\n"
     ]
    },
    {
     "name": "stderr",
     "output_type": "stream",
     "text": [
      "Epoch 13/100 [Training]: 100%|██████████| 200/200 [00:53<00:00,  3.75it/s]\n",
      "Epoch 13/100 [Validation]: 100%|██████████| 50/50 [00:09<00:00,  5.00it/s]\n"
     ]
    },
    {
     "name": "stdout",
     "output_type": "stream",
     "text": [
      "Epoch 13: Train Loss: 0.997497, Valid Loss: 1.002031, Reconstruction Error: 1.002031\n"
     ]
    },
    {
     "name": "stderr",
     "output_type": "stream",
     "text": [
      "Epoch 14/100 [Training]: 100%|██████████| 200/200 [00:49<00:00,  4.05it/s]\n",
      "Epoch 14/100 [Validation]: 100%|██████████| 50/50 [00:08<00:00,  6.10it/s]\n"
     ]
    },
    {
     "name": "stdout",
     "output_type": "stream",
     "text": [
      "Epoch 14: Train Loss: 0.997304, Valid Loss: 1.004414, Reconstruction Error: 1.004414\n"
     ]
    },
    {
     "name": "stderr",
     "output_type": "stream",
     "text": [
      "Epoch 15/100 [Training]: 100%|██████████| 200/200 [00:47<00:00,  4.18it/s]\n",
      "Epoch 15/100 [Validation]: 100%|██████████| 50/50 [00:10<00:00,  4.97it/s]\n"
     ]
    },
    {
     "name": "stdout",
     "output_type": "stream",
     "text": [
      "Epoch 15: Train Loss: 0.997336, Valid Loss: 1.003198, Reconstruction Error: 1.003198\n"
     ]
    },
    {
     "name": "stderr",
     "output_type": "stream",
     "text": [
      "Epoch 16/100 [Training]: 100%|██████████| 200/200 [00:53<00:00,  3.71it/s]\n",
      "Epoch 16/100 [Validation]: 100%|██████████| 50/50 [00:09<00:00,  5.29it/s]\n"
     ]
    },
    {
     "name": "stdout",
     "output_type": "stream",
     "text": [
      "Epoch 16: Train Loss: 0.997237, Valid Loss: 1.001709, Reconstruction Error: 1.001709\n"
     ]
    },
    {
     "name": "stderr",
     "output_type": "stream",
     "text": [
      "Epoch 17/100 [Training]: 100%|██████████| 200/200 [00:53<00:00,  3.75it/s]\n",
      "Epoch 17/100 [Validation]: 100%|██████████| 50/50 [00:09<00:00,  5.02it/s]\n"
     ]
    },
    {
     "name": "stdout",
     "output_type": "stream",
     "text": [
      "Epoch 17: Train Loss: 0.997157, Valid Loss: 1.002052, Reconstruction Error: 1.002052\n"
     ]
    },
    {
     "name": "stderr",
     "output_type": "stream",
     "text": [
      "Epoch 18/100 [Training]: 100%|██████████| 200/200 [00:56<00:00,  3.54it/s]\n",
      "Epoch 18/100 [Validation]: 100%|██████████| 50/50 [00:09<00:00,  5.08it/s]\n"
     ]
    },
    {
     "name": "stdout",
     "output_type": "stream",
     "text": [
      "Epoch 18: Train Loss: 0.997183, Valid Loss: 1.001680, Reconstruction Error: 1.001680\n"
     ]
    },
    {
     "name": "stderr",
     "output_type": "stream",
     "text": [
      "Epoch 19/100 [Training]: 100%|██████████| 200/200 [00:55<00:00,  3.57it/s]\n",
      "Epoch 19/100 [Validation]: 100%|██████████| 50/50 [00:09<00:00,  5.49it/s]\n"
     ]
    },
    {
     "name": "stdout",
     "output_type": "stream",
     "text": [
      "Epoch 19: Train Loss: 0.997056, Valid Loss: 1.001626, Reconstruction Error: 1.001626\n"
     ]
    },
    {
     "name": "stderr",
     "output_type": "stream",
     "text": [
      "Epoch 20/100 [Training]: 100%|██████████| 200/200 [01:00<00:00,  3.30it/s]\n",
      "Epoch 20/100 [Validation]: 100%|██████████| 50/50 [00:08<00:00,  5.67it/s]\n"
     ]
    },
    {
     "name": "stdout",
     "output_type": "stream",
     "text": [
      "Epoch 20: Train Loss: 0.997146, Valid Loss: 1.001016, Reconstruction Error: 1.001016\n"
     ]
    },
    {
     "name": "stderr",
     "output_type": "stream",
     "text": [
      "Epoch 21/100 [Training]: 100%|██████████| 200/200 [00:48<00:00,  4.12it/s]\n",
      "Epoch 21/100 [Validation]: 100%|██████████| 50/50 [00:08<00:00,  5.57it/s]\n"
     ]
    },
    {
     "name": "stdout",
     "output_type": "stream",
     "text": [
      "Epoch 21: Train Loss: 0.997054, Valid Loss: 1.001477, Reconstruction Error: 1.001477\n"
     ]
    },
    {
     "name": "stderr",
     "output_type": "stream",
     "text": [
      "Epoch 22/100 [Training]: 100%|██████████| 200/200 [00:50<00:00,  3.94it/s]\n",
      "Epoch 22/100 [Validation]: 100%|██████████| 50/50 [00:08<00:00,  5.67it/s]\n"
     ]
    },
    {
     "name": "stdout",
     "output_type": "stream",
     "text": [
      "Epoch 22: Train Loss: 0.996925, Valid Loss: 1.001428, Reconstruction Error: 1.001428\n"
     ]
    },
    {
     "name": "stderr",
     "output_type": "stream",
     "text": [
      "Epoch 23/100 [Training]: 100%|██████████| 200/200 [00:59<00:00,  3.37it/s]\n",
      "Epoch 23/100 [Validation]: 100%|██████████| 50/50 [00:11<00:00,  4.52it/s]\n"
     ]
    },
    {
     "name": "stdout",
     "output_type": "stream",
     "text": [
      "Epoch 23: Train Loss: 0.996976, Valid Loss: 1.001153, Reconstruction Error: 1.001153\n"
     ]
    },
    {
     "name": "stderr",
     "output_type": "stream",
     "text": [
      "Epoch 24/100 [Training]: 100%|██████████| 200/200 [01:05<00:00,  3.06it/s]\n",
      "Epoch 24/100 [Validation]: 100%|██████████| 50/50 [00:10<00:00,  4.96it/s]\n"
     ]
    },
    {
     "name": "stdout",
     "output_type": "stream",
     "text": [
      "Epoch 24: Train Loss: 0.996896, Valid Loss: 1.001263, Reconstruction Error: 1.001263\n"
     ]
    },
    {
     "name": "stderr",
     "output_type": "stream",
     "text": [
      "Epoch 25/100 [Training]: 100%|██████████| 200/200 [00:50<00:00,  3.92it/s]\n",
      "Epoch 25/100 [Validation]: 100%|██████████| 50/50 [00:08<00:00,  5.85it/s]\n"
     ]
    },
    {
     "name": "stdout",
     "output_type": "stream",
     "text": [
      "Epoch 25: Train Loss: 0.996870, Valid Loss: 1.001520, Reconstruction Error: 1.001520\n"
     ]
    },
    {
     "name": "stderr",
     "output_type": "stream",
     "text": [
      "Epoch 26/100 [Training]: 100%|██████████| 200/200 [01:02<00:00,  3.22it/s]\n",
      "Epoch 26/100 [Validation]: 100%|██████████| 50/50 [00:13<00:00,  3.69it/s]\n"
     ]
    },
    {
     "name": "stdout",
     "output_type": "stream",
     "text": [
      "Epoch 26: Train Loss: 0.996870, Valid Loss: 1.001339, Reconstruction Error: 1.001339\n"
     ]
    },
    {
     "name": "stderr",
     "output_type": "stream",
     "text": [
      "Epoch 27/100 [Training]:  42%|████▏     | 84/200 [00:23<00:31,  3.66it/s]"
     ]
    }
   ],
   "source": [
    "# Entraînement du modèle\n",
    "learning_rate = 0.001\n",
    "n_epochs = 100\n",
    "\n",
    "# Spécification de la fonction de perte\n",
    "criterion = nn.MSELoss()\n",
    "\n",
    "# Optimiseur\n",
    "optimizer = torch.optim.Adam(model.parameters(), lr=learning_rate)\n",
    "\n",
    "# Scheduler pour réduire le learning rate si la validation stagne\n",
    "scheduler = ReduceLROnPlateau(optimizer, mode='min', factor=0.5, patience=5, verbose=True)\n",
    "\n",
    "# Lists pour suivre les métriques\n",
    "train_losses = []\n",
    "valid_losses = []\n",
    "train_reconstruction_errors = []\n",
    "valid_reconstruction_errors = []\n",
    "\n",
    "best_valid_loss = float('inf')  # Suivi de la meilleure validation loss\n",
    "best_model = None  # Stockage du meilleur modèle\n",
    "best_epoch = 0  # Numéro de l'époque pour le meilleur modèle\n",
    "\n",
    "# Boucle d'entraînement\n",
    "for epoch in range(n_epochs):\n",
    "    model.train()\n",
    "    train_loss = 0.0\n",
    "    running_mse = 0.0\n",
    "\n",
    "    # Barre de progression\n",
    "    trainloader = tqdm(train_loader, desc=f\"Epoch {epoch+1}/{n_epochs} [Training]\")\n",
    "\n",
    "    for batch_data in trainloader:\n",
    "        # Décomposer les données du batch\n",
    "        x_masked, mask, x_original, labels = [item.to(device).float() for item in batch_data]\n",
    "        mask = mask.squeeze(1).bool()\n",
    "        x_original = x_original.squeeze(1)\n",
    "\n",
    "        # Réinitialiser les gradients\n",
    "        optimizer.zero_grad()\n",
    "\n",
    "        # Forward pass\n",
    "        output, _ = model(x_masked)\n",
    "\n",
    "        # Calcul de la perte\n",
    "        loss = criterion(output, x_original)\n",
    "\n",
    "        # Backpropagation\n",
    "        loss.backward()\n",
    "        optimizer.step()\n",
    "\n",
    "        # Mise à jour des métriques\n",
    "        train_loss += loss.item() * x_masked.size(0)\n",
    "        running_mse += F.mse_loss(output, x_original, reduction='mean').item()\n",
    "\n",
    "    # Moyenne des métriques d'entraînement\n",
    "    train_loss /= len(train_loader.dataset)\n",
    "    train_reconstruction_error = running_mse / len(train_loader.dataset)\n",
    "    train_losses.append(train_loss)\n",
    "    train_reconstruction_errors.append(train_reconstruction_error)\n",
    "\n",
    "    # Étape de validation\n",
    "    model.eval()\n",
    "    valid_loss = 0.0\n",
    "    valid_reconstruction_error = 0.0\n",
    "\n",
    "    with torch.no_grad():\n",
    "        validloader = tqdm(valid_loader, desc=f\"Epoch {epoch+1}/{n_epochs} [Validation]\")\n",
    "        for batch_data in validloader:\n",
    "            x_masked, mask, x_original, labels = [item.to(device).float() for item in batch_data]\n",
    "            mask = mask.squeeze(1).bool()\n",
    "            x_original = x_original.squeeze(1)\n",
    "\n",
    "            # Forward pass\n",
    "            output, _ = model(x_masked)\n",
    "\n",
    "            # Calcul de la perte\n",
    "            loss = criterion(output, x_original)\n",
    "            valid_loss += loss.item() * x_masked.size(0)\n",
    "\n",
    "            # Calcul de l'erreur de reconstruction\n",
    "            valid_reconstruction_error += F.mse_loss(output, x_original, reduction='mean').item() * x_masked.size(0)\n",
    "\n",
    "    # Moyenne des métriques de validation\n",
    "    valid_loss /= len(valid_loader.dataset)\n",
    "    valid_reconstruction_error /= len(valid_loader.dataset)\n",
    "    valid_losses.append(valid_loss)\n",
    "    valid_reconstruction_errors.append(valid_reconstruction_error)\n",
    "\n",
    "    # Mise à jour du scheduler\n",
    "    scheduler.step(valid_loss)\n",
    "\n",
    "    # Affichage des résultats pour l'époque\n",
    "    print(f\"Epoch {epoch+1}: Train Loss: {train_loss:.6f}, Valid Loss: {valid_loss:.6f}, Reconstruction Error: {valid_reconstruction_error:.6f}\")\n",
    "\n",
    "    # Sauvegarde du meilleur modèle\n",
    "    if valid_loss < best_valid_loss:\n",
    "        best_valid_loss = valid_loss\n",
    "        best_model = model.state_dict()\n",
    "        best_epoch = epoch + 1\n",
    "\n",
    "# Chargement et sauvegarde du meilleur modèle après l'entraînement\n",
    "model.load_state_dict(best_model)\n",
    "torch.save(best_model, 'best_model.pth')\n",
    "\n",
    "print(f\"Best model selected at epoch {best_epoch} with validation loss: {best_valid_loss:.6f}\")\n"
   ]
  },
  {
   "cell_type": "code",
   "execution_count": 700,
   "metadata": {},
   "outputs": [
    {
     "data": {
      "image/png": "[encoded data removed]",
      "text/plain": [
       "<Figure size 1000x600 with 1 Axes>"
      ]
     },
     "metadata": {},
     "output_type": "display_data"
    }
   ],
   "source": [
    "## Display train / valid curves\n",
    "\n",
    "# Plot loss curves\n",
    "plt.figure(figsize=(10, 6))\n",
    "\n",
    "# Plotting Training and Validation Loss\n",
    "plt.plot(train_losses, label='Training Loss')\n",
    "plt.plot(valid_losses, label='Validation Loss')\n",
    "plt.title('Loss Curve')\n",
    "plt.xlabel('Epochs')\n",
    "plt.ylabel('Loss')\n",
    "plt.legend()\n",
    "\n",
    "plt.tight_layout()\n",
    "plt.show()\n"
   ]
  },
  {
   "cell_type": "markdown",
   "metadata": {},
   "source": [
    "---\n",
    "## Test the Trained Network"
   ]
  },
  {
   "cell_type": "code",
   "execution_count": null,
   "metadata": {},
   "outputs": [
    {
     "ename": "AttributeError",
     "evalue": "'tqdm' object has no attribute 'dataset'",
     "output_type": "error",
     "traceback": [
      "\u001b[1;31m---------------------------------------------------------------------------\u001b[0m",
      "\u001b[1;31mAttributeError\u001b[0m                            Traceback (most recent call last)",
      "Cell \u001b[1;32mIn[764], line 26\u001b[0m\n\u001b[0;32m     23\u001b[0m         test_loss \u001b[38;5;241m+\u001b[39m\u001b[38;5;241m=\u001b[39m loss\u001b[38;5;241m.\u001b[39mitem() \u001b[38;5;241m*\u001b[39m x_masked\u001b[38;5;241m.\u001b[39msize(\u001b[38;5;241m0\u001b[39m)\n\u001b[0;32m     25\u001b[0m \u001b[38;5;66;03m# Calculate and print avg test loss\u001b[39;00m\n\u001b[1;32m---> 26\u001b[0m test_loss \u001b[38;5;241m=\u001b[39m test_loss \u001b[38;5;241m/\u001b[39m \u001b[38;5;28mlen\u001b[39m(\u001b[43mvalid_loader\u001b[49m\u001b[38;5;241;43m.\u001b[39;49m\u001b[43mdataset\u001b[49m)\n\u001b[0;32m     27\u001b[0m \u001b[38;5;28mprint\u001b[39m(\u001b[38;5;124m'\u001b[39m\u001b[38;5;124mTest Loss: \u001b[39m\u001b[38;5;132;01m{:.6f}\u001b[39;00m\u001b[38;5;130;01m\\n\u001b[39;00m\u001b[38;5;124m'\u001b[39m\u001b[38;5;241m.\u001b[39mformat(test_loss))\n\u001b[0;32m     29\u001b[0m \u001b[38;5;66;03m# Prendre un batch au hasard dans Valid_loader\u001b[39;00m\n",
      "\u001b[1;31mAttributeError\u001b[0m: 'tqdm' object has no attribute 'dataset'"
     ]
    }
   ],
   "source": [
    "# initialize lists to monitor test loss and accuracy\n",
    "test_loss = 0.0\n",
    "\n",
    "model.eval()  # prep model for evaluation\n",
    "\n",
    "with torch.no_grad():\n",
    "    for batch_data in valid_loader:\n",
    "        # Décomposer les données du batch (x_masked, mask, x_original, labels)\n",
    "        x_masked, mask, x_original, labels = [item.to(device).float() for item in batch_data]\n",
    "\n",
    "        # Assurez-vous que le masque est de type bool\n",
    "        mask = mask.squeeze(1).bool()\n",
    "\n",
    "        x_original = x_original.squeeze(1)\n",
    "        \n",
    "        # forward pass: compute predicted outputs by passing inputs to the model\n",
    "        output, latent_space = model(x_masked)\n",
    "        \n",
    "        # calculate the loss \n",
    "        loss = criterion(output, x_original)\n",
    "        \n",
    "        # update test loss \n",
    "        test_loss += loss.item() * x_masked.size(0)\n",
    "\n",
    "# Calculate and print avg test loss\n",
    "test_loss = test_loss / len(valid_loader.dataset)\n",
    "print('Test Loss: {:.6f}\\n'.format(test_loss))\n",
    "\n",
    "# Prendre un batch au hasard dans Valid_loader\n",
    "random_index = np.random.randint(0, len(valid_loader.dataset))\n",
    "for i, batch_data in enumerate(valid_loader):\n",
    "    if i == random_index:\n",
    "        x_masked, mask, x_original, _ = [item.to(device).float() for item in batch_data]\n",
    "\n",
    "# Afficher un signal d'entrée au hasard et sa reconstruction\n",
    "random_index = np.random.randint(0, x_original.shape[0])\n",
    "input_signal = x_original[random_index].squeeze().cpu().numpy()\n",
    "reconstructed_signal = output[random_index].squeeze().cpu().numpy()\n",
    "mask_signal = mask[random_index].cpu().numpy()\n",
    "\n",
    "plt.figure(figsize=(14, 6))\n",
    "\n",
    "# Afficher les parties masquées en rouge\n",
    "masked_indices = np.where(mask_signal[1000:2000] == 0)[0]\n",
    "plt.scatter(masked_indices, input_signal[masked_indices + 1000], color='red', label='Parties masquées', zorder=3)\n",
    "\n",
    "# Afficher le signal d'entrée et le signal reconstruit sur le même graphique\n",
    "plt.plot(input_signal[1000:2000], marker='o', label='Signal d\\'entrée', zorder=1)\n",
    "plt.plot(reconstructed_signal[1000:2000], marker='x', label='Signal reconstruit', zorder=2)\n",
    "\n",
    "plt.title(\"Comparaison du signal d'entrée et du signal reconstruit\")\n",
    "plt.legend()\n",
    "\n",
    "plt.tight_layout()\n",
    "plt.show()\n"
   ]
  },
  {
   "cell_type": "code",
   "execution_count": 762,
   "metadata": {},
   "outputs": [
    {
     "name": "stdout",
     "output_type": "stream",
     "text": [
      "Latent space shape: torch.Size([100, 32, 256])\n"
     ]
    },
    {
     "data": {
      "application/vnd.plotly.v1+json": {
       "config": {
        "plotlyServerURL": "https://plot.ly"
       },
       "data": [
        {
         "marker": {
          "color": "#636EFA"
         },
         "mode": "markers",
         "name": "Class 1.0",
         "type": "scatter3d",
         "x": [
          2.8211638927459717,
          1.6755026578903198,
          0.15451541543006897,
          3.6414847373962402,
          1.0345351696014404,
          1.3752033710479736,
          6.32664155960083,
          1.4950640201568604,
          5.74251127243042,
          1.710985779762268,
          1.0824732780456543,
          6.758033275604248,
          -3.3364100456237793,
          0.21397601068019867,
          -3.3484716415405273,
          2.3783483505249023,
          2.017348051071167,
          4.4250054359436035,
          4.781184196472168,
          -0.3076801002025604
         ],
         "y": [
          1.9357410669326782,
          -0.47915181517601013,
          -0.19564573466777802,
          0.7283425331115723,
          -2.0234739780426025,
          -0.2724447250366211,
          -1.348271369934082,
          1.5052056312561035,
          -1.8553102016448975,
          -2.753730535507202,
          2.8182156085968018,
          -0.7879360914230347,
          -1.3069385290145874,
          -3.258352041244507,
          -0.05192369222640991,
          -0.0889299064874649,
          0.0002876638318412006,
          0.18870781362056732,
          -4.32683801651001,
          -2.411747932434082
         ],
         "z": [
          1.01259183883667,
          -3.0078766345977783,
          1.0315136909484863,
          -2.298096179962158,
          -5.319427967071533,
          -3.4092068672180176,
          3.57096266746521,
          -3.17476224899292,
          1.012284278869629,
          -1.556409239768982,
          -3.801187038421631,
          0.01379302702844143,
          -0.8605920076370239,
          2.7834181785583496,
          -1.2788732051849365,
          0.5689018368721008,
          -2.9015746116638184,
          -0.2578461468219757,
          2.9082818031311035,
          1.8998349905014038
         ]
        },
        {
         "marker": {
          "color": "#EF553B"
         },
         "mode": "markers",
         "name": "Class 2.0",
         "type": "scatter3d",
         "x": [
          8.130694389343262,
          6.26924991607666,
          4.849339962005615,
          7.118756294250488,
          6.41005277633667,
          6.49863862991333,
          4.033777713775635,
          6.41705846786499,
          7.135273456573486,
          6.5262346267700195,
          4.4917168617248535,
          5.965734958648682,
          3.9268853664398193,
          2.5960230827331543,
          5.375709533691406,
          2.6484291553497314,
          2.1244261264801025,
          3.736720561981201,
          1.227163553237915,
          4.823814868927002
         ],
         "y": [
          1.9088724851608276,
          7.3067708015441895,
          -0.568783164024353,
          1.8576948642730713,
          1.5585174560546875,
          9.393878936767578,
          -0.8511423468589783,
          6.506051063537598,
          3.129831552505493,
          1.0811982154846191,
          -2.200042963027954,
          -1.4809668064117432,
          -1.4228872060775757,
          2.2291815280914307,
          2.463045358657837,
          1.8654528856277466,
          -4.41520357131958,
          -1.3702415227890015,
          6.9779276847839355,
          5.168875217437744
         ],
         "z": [
          1.0576351881027222,
          3.6442694664001465,
          -0.5426884293556213,
          -2.4649569988250732,
          0.2351459115743637,
          -0.8166435360908508,
          0.618895411491394,
          1.8981873989105225,
          -5.661360263824463,
          1.9553532600402832,
          -2.5556318759918213,
          1.4880231618881226,
          1.736541986465454,
          0.6788963675498962,
          1.9824343919754028,
          -4.312171936035156,
          -2.4750850200653076,
          2.37296986579895,
          -4.271902561187744,
          2.162869930267334
         ]
        },
        {
         "marker": {
          "color": "#00CC96"
         },
         "mode": "markers",
         "name": "Class 3.0",
         "type": "scatter3d",
         "x": [
          -3.39746356010437,
          -3.306880474090576,
          -6.568876266479492,
          -4.510308742523193,
          -2.6060473918914795,
          -8.089224815368652,
          -5.775552749633789,
          -2.8889760971069336,
          -3.808936834335327,
          -5.360569953918457,
          -2.1125242710113525,
          -5.9010419845581055,
          -2.743267297744751,
          -6.830548286437988,
          -5.4032979011535645,
          -5.138981342315674,
          -6.584871768951416,
          -3.9953041076660156,
          -5.976646423339844,
          -5.766205787658691
         ],
         "y": [
          3.142569065093994,
          1.4951430559158325,
          0.5447446703910828,
          -1.8973193168640137,
          -1.2456938028335571,
          -1.2942497730255127,
          -4.023073673248291,
          -0.4200209975242615,
          1.1433181762695312,
          -5.382214069366455,
          -2.175260066986084,
          4.320287227630615,
          -2.289301872253418,
          -1.6889739036560059,
          0.18331223726272583,
          -2.8197073936462402,
          2.8002097606658936,
          0.03059367835521698,
          -1.7152186632156372,
          1.5689526796340942
         ],
         "z": [
          3.8765106201171875,
          5.133525371551514,
          -2.7262985706329346,
          5.744741439819336,
          -1.2411212921142578,
          1.8026397228240967,
          -3.4482524394989014,
          -0.0973181203007698,
          -0.08083973079919815,
          0.04070433974266052,
          3.4702703952789307,
          -2.8440001010894775,
          7.950156211853027,
          -2.8376071453094482,
          -1.2945500612258911,
          1.005731463432312,
          5.771350383758545,
          -3.0734403133392334,
          0.607147216796875,
          -2.3071537017822266
         ]
        },
        {
         "marker": {
          "color": "#AB63FA"
         },
         "mode": "markers",
         "name": "Class 4.0",
         "type": "scatter3d",
         "x": [
          -0.5170295238494873,
          -5.893402099609375,
          -4.3736348152160645,
          -1.5171799659729004,
          -2.922940492630005,
          -3.0756301879882812,
          -9.480639457702637,
          -0.26330432295799255,
          -3.02150297164917,
          -5.182497024536133,
          -3.963940382003784,
          -0.7771763205528259,
          -2.318430185317993,
          -5.623563289642334,
          -2.6429693698883057,
          -5.712575912475586,
          -9.7515230178833,
          -6.849170207977295,
          -4.365325450897217,
          -3.2599105834960938
         ],
         "y": [
          -3.5259087085723877,
          -0.7671431303024292,
          3.6691653728485107,
          -4.45350980758667,
          -2.733100652694702,
          -5.004043102264404,
          1.1129302978515625,
          -1.8343677520751953,
          2.4828124046325684,
          2.858137607574463,
          4.469862461090088,
          -2.1344683170318604,
          -7.140715599060059,
          6.5628204345703125,
          1.443555474281311,
          14.154273986816406,
          2.7346043586730957,
          -6.9973344802856445,
          -1.10435950756073,
          4.159180164337158
         ],
         "z": [
          -0.397476464509964,
          -0.7907050251960754,
          6.012847900390625,
          -0.99970942735672,
          1.3060530424118042,
          0.42605024576187134,
          -7.4394917488098145,
          0.06443752348423004,
          10.662375450134277,
          -3.4898886680603027,
          6.904143810272217,
          4.258412837982178,
          -0.5264613628387451,
          -0.198859304189682,
          0.2681633532047272,
          -1.2381840944290161,
          -7.483193397521973,
          -1.0003899335861206,
          3.284365653991699,
          10.275835037231445
         ]
        },
        {
         "marker": {
          "color": "#FFA15A"
         },
         "mode": "markers",
         "name": "Class 5.0",
         "type": "scatter3d",
         "x": [
          1.7027150392532349,
          4.415966987609863,
          0.5065614581108093,
          3.198525905609131,
          1.4114832878112793,
          -2.0787761211395264,
          3.2450618743896484,
          7.1178297996521,
          0.2918510138988495,
          -1.1244635581970215,
          1.1220386028289795,
          -2.9039459228515625,
          8.074480056762695,
          -1.1109908819198608,
          4.953293323516846,
          -0.7669514417648315,
          7.518298625946045,
          -2.2638401985168457,
          0.46644967794418335,
          3.5551533699035645
         ],
         "y": [
          -1.871616005897522,
          -3.497459888458252,
          -5.427393913269043,
          -3.605271577835083,
          -0.22036516666412354,
          2.189192771911621,
          -4.0255327224731445,
          -3.6456282138824463,
          -1.7431306838989258,
          -4.053530693054199,
          1.9259343147277832,
          -0.496888130903244,
          -3.072713613510132,
          0.018278198316693306,
          -2.3792152404785156,
          2.016465187072754,
          -0.32235512137413025,
          4.13533878326416,
          0.8265865445137024,
          -0.1350010186433792
         ],
         "z": [
          0.9210416078567505,
          -3.2011942863464355,
          0.2844182252883911,
          -1.6175841093063354,
          -3.478999137878418,
          -2.4456734657287598,
          2.2161617279052734,
          -1.4921605587005615,
          2.1234323978424072,
          1.7671005725860596,
          -4.049442768096924,
          -3.9532806873321533,
          -1.8546359539031982,
          0.9417787790298462,
          3.268334150314331,
          -0.1577351838350296,
          -2.098493814468384,
          -4.231447696685791,
          -0.9273550510406494,
          -1.0312871932983398
         ]
        }
       ],
       "layout": {
        "legend": {
         "title": {
          "text": "Classes"
         }
        },
        "scene": {
         "xaxis": {
          "title": {
           "text": "Principal Component 1"
          }
         },
         "yaxis": {
          "title": {
           "text": "Principal Component 2"
          }
         },
         "zaxis": {
          "title": {
           "text": "Principal Component 3"
          }
         }
        },
        "template": {
         "data": {
          "bar": [
           {
            "error_x": {
             "color": "#2a3f5f"
            },
            "error_y": {
             "color": "#2a3f5f"
            },
            "marker": {
             "line": {
              "color": "#E5ECF6",
              "width": 0.5
             },
             "pattern": {
              "fillmode": "overlay",
              "size": 10,
              "solidity": 0.2
             }
            },
            "type": "bar"
           }
          ],
          "barpolar": [
           {
            "marker": {
             "line": {
              "color": "#E5ECF6",
              "width": 0.5
             },
             "pattern": {
              "fillmode": "overlay",
              "size": 10,
              "solidity": 0.2
             }
            },
            "type": "barpolar"
           }
          ],
          "carpet": [
           {
            "aaxis": {
             "endlinecolor": "#2a3f5f",
             "gridcolor": "white",
             "linecolor": "white",
             "minorgridcolor": "white",
             "startlinecolor": "#2a3f5f"
            },
            "baxis": {
             "endlinecolor": "#2a3f5f",
             "gridcolor": "white",
             "linecolor": "white",
             "minorgridcolor": "white",
             "startlinecolor": "#2a3f5f"
            },
            "type": "carpet"
           }
          ],
          "choropleth": [
           {
            "colorbar": {
             "outlinewidth": 0,
             "ticks": ""
            },
            "type": "choropleth"
           }
          ],
          "contour": [
           {
            "colorbar": {
             "outlinewidth": 0,
             "ticks": ""
            },
            "colorscale": [
             [
              0,
              "#0d0887"
             ],
             [
              0.1111111111111111,
              "#46039f"
             ],
             [
              0.2222222222222222,
              "#7201a8"
             ],
             [
              0.3333333333333333,
              "#9c179e"
             ],
             [
              0.4444444444444444,
              "#bd3786"
             ],
             [
              0.5555555555555556,
              "#d8576b"
             ],
             [
              0.6666666666666666,
              "#ed7953"
             ],
             [
              0.7777777777777778,
              "#fb9f3a"
             ],
             [
              0.8888888888888888,
              "#fdca26"
             ],
             [
              1,
              "#f0f921"
             ]
            ],
            "type": "contour"
           }
          ],
          "contourcarpet": [
           {
            "colorbar": {
             "outlinewidth": 0,
             "ticks": ""
            },
            "type": "contourcarpet"
           }
          ],
          "heatmap": [
           {
            "colorbar": {
             "outlinewidth": 0,
             "ticks": ""
            },
            "colorscale": [
             [
              0,
              "#0d0887"
             ],
             [
              0.1111111111111111,
              "#46039f"
             ],
             [
              0.2222222222222222,
              "#7201a8"
             ],
             [
              0.3333333333333333,
              "#9c179e"
             ],
             [
              0.4444444444444444,
              "#bd3786"
             ],
             [
              0.5555555555555556,
              "#d8576b"
             ],
             [
              0.6666666666666666,
              "#ed7953"
             ],
             [
              0.7777777777777778,
              "#fb9f3a"
             ],
             [
              0.8888888888888888,
              "#fdca26"
             ],
             [
              1,
              "#f0f921"
             ]
            ],
            "type": "heatmap"
           }
          ],
          "heatmapgl": [
           {
            "colorbar": {
             "outlinewidth": 0,
             "ticks": ""
            },
            "colorscale": [
             [
              0,
              "#0d0887"
             ],
             [
              0.1111111111111111,
              "#46039f"
             ],
             [
              0.2222222222222222,
              "#7201a8"
             ],
             [
              0.3333333333333333,
              "#9c179e"
             ],
             [
              0.4444444444444444,
              "#bd3786"
             ],
             [
              0.5555555555555556,
              "#d8576b"
             ],
             [
              0.6666666666666666,
              "#ed7953"
             ],
             [
              0.7777777777777778,
              "#fb9f3a"
             ],
             [
              0.8888888888888888,
              "#fdca26"
             ],
             [
              1,
              "#f0f921"
             ]
            ],
            "type": "heatmapgl"
           }
          ],
          "histogram": [
           {
            "marker": {
             "pattern": {
              "fillmode": "overlay",
              "size": 10,
              "solidity": 0.2
             }
            },
            "type": "histogram"
           }
          ],
          "histogram2d": [
           {
            "colorbar": {
             "outlinewidth": 0,
             "ticks": ""
            },
            "colorscale": [
             [
              0,
              "#0d0887"
             ],
             [
              0.1111111111111111,
              "#46039f"
             ],
             [
              0.2222222222222222,
              "#7201a8"
             ],
             [
              0.3333333333333333,
              "#9c179e"
             ],
             [
              0.4444444444444444,
              "#bd3786"
             ],
             [
              0.5555555555555556,
              "#d8576b"
             ],
             [
              0.6666666666666666,
              "#ed7953"
             ],
             [
              0.7777777777777778,
              "#fb9f3a"
             ],
             [
              0.8888888888888888,
              "#fdca26"
             ],
             [
              1,
              "#f0f921"
             ]
            ],
            "type": "histogram2d"
           }
          ],
          "histogram2dcontour": [
           {
            "colorbar": {
             "outlinewidth": 0,
             "ticks": ""
            },
            "colorscale": [
             [
              0,
              "#0d0887"
             ],
             [
              0.1111111111111111,
              "#46039f"
             ],
             [
              0.2222222222222222,
              "#7201a8"
             ],
             [
              0.3333333333333333,
              "#9c179e"
             ],
             [
              0.4444444444444444,
              "#bd3786"
             ],
             [
              0.5555555555555556,
              "#d8576b"
             ],
             [
              0.6666666666666666,
              "#ed7953"
             ],
             [
              0.7777777777777778,
              "#fb9f3a"
             ],
             [
              0.8888888888888888,
              "#fdca26"
             ],
             [
              1,
              "#f0f921"
             ]
            ],
            "type": "histogram2dcontour"
           }
          ],
          "mesh3d": [
           {
            "colorbar": {
             "outlinewidth": 0,
             "ticks": ""
            },
            "type": "mesh3d"
           }
          ],
          "parcoords": [
           {
            "line": {
             "colorbar": {
              "outlinewidth": 0,
              "ticks": ""
             }
            },
            "type": "parcoords"
           }
          ],
          "pie": [
           {
            "automargin": true,
            "type": "pie"
           }
          ],
          "scatter": [
           {
            "fillpattern": {
             "fillmode": "overlay",
             "size": 10,
             "solidity": 0.2
            },
            "type": "scatter"
           }
          ],
          "scatter3d": [
           {
            "line": {
             "colorbar": {
              "outlinewidth": 0,
              "ticks": ""
             }
            },
            "marker": {
             "colorbar": {
              "outlinewidth": 0,
              "ticks": ""
             }
            },
            "type": "scatter3d"
           }
          ],
          "scattercarpet": [
           {
            "marker": {
             "colorbar": {
              "outlinewidth": 0,
              "ticks": ""
             }
            },
            "type": "scattercarpet"
           }
          ],
          "scattergeo": [
           {
            "marker": {
             "colorbar": {
              "outlinewidth": 0,
              "ticks": ""
             }
            },
            "type": "scattergeo"
           }
          ],
          "scattergl": [
           {
            "marker": {
             "colorbar": {
              "outlinewidth": 0,
              "ticks": ""
             }
            },
            "type": "scattergl"
           }
          ],
          "scattermapbox": [
           {
            "marker": {
             "colorbar": {
              "outlinewidth": 0,
              "ticks": ""
             }
            },
            "type": "scattermapbox"
           }
          ],
          "scatterpolar": [
           {
            "marker": {
             "colorbar": {
              "outlinewidth": 0,
              "ticks": ""
             }
            },
            "type": "scatterpolar"
           }
          ],
          "scatterpolargl": [
           {
            "marker": {
             "colorbar": {
              "outlinewidth": 0,
              "ticks": ""
             }
            },
            "type": "scatterpolargl"
           }
          ],
          "scatterternary": [
           {
            "marker": {
             "colorbar": {
              "outlinewidth": 0,
              "ticks": ""
             }
            },
            "type": "scatterternary"
           }
          ],
          "surface": [
           {
            "colorbar": {
             "outlinewidth": 0,
             "ticks": ""
            },
            "colorscale": [
             [
              0,
              "#0d0887"
             ],
             [
              0.1111111111111111,
              "#46039f"
             ],
             [
              0.2222222222222222,
              "#7201a8"
             ],
             [
              0.3333333333333333,
              "#9c179e"
             ],
             [
              0.4444444444444444,
              "#bd3786"
             ],
             [
              0.5555555555555556,
              "#d8576b"
             ],
             [
              0.6666666666666666,
              "#ed7953"
             ],
             [
              0.7777777777777778,
              "#fb9f3a"
             ],
             [
              0.8888888888888888,
              "#fdca26"
             ],
             [
              1,
              "#f0f921"
             ]
            ],
            "type": "surface"
           }
          ],
          "table": [
           {
            "cells": {
             "fill": {
              "color": "#EBF0F8"
             },
             "line": {
              "color": "white"
             }
            },
            "header": {
             "fill": {
              "color": "#C8D4E3"
             },
             "line": {
              "color": "white"
             }
            },
            "type": "table"
           }
          ]
         },
         "layout": {
          "annotationdefaults": {
           "arrowcolor": "#2a3f5f",
           "arrowhead": 0,
           "arrowwidth": 1
          },
          "autotypenumbers": "strict",
          "coloraxis": {
           "colorbar": {
            "outlinewidth": 0,
            "ticks": ""
           }
          },
          "colorscale": {
           "diverging": [
            [
             0,
             "#8e0152"
            ],
            [
             0.1,
             "#c51b7d"
            ],
            [
             0.2,
             "#de77ae"
            ],
            [
             0.3,
             "#f1b6da"
            ],
            [
             0.4,
             "#fde0ef"
            ],
            [
             0.5,
             "#f7f7f7"
            ],
            [
             0.6,
             "#e6f5d0"
            ],
            [
             0.7,
             "#b8e186"
            ],
            [
             0.8,
             "#7fbc41"
            ],
            [
             0.9,
             "#4d9221"
            ],
            [
             1,
             "#276419"
            ]
           ],
           "sequential": [
            [
             0,
             "#0d0887"
            ],
            [
             0.1111111111111111,
             "#46039f"
            ],
            [
             0.2222222222222222,
             "#7201a8"
            ],
            [
             0.3333333333333333,
             "#9c179e"
            ],
            [
             0.4444444444444444,
             "#bd3786"
            ],
            [
             0.5555555555555556,
             "#d8576b"
            ],
            [
             0.6666666666666666,
             "#ed7953"
            ],
            [
             0.7777777777777778,
             "#fb9f3a"
            ],
            [
             0.8888888888888888,
             "#fdca26"
            ],
            [
             1,
             "#f0f921"
            ]
           ],
           "sequentialminus": [
            [
             0,
             "#0d0887"
            ],
            [
             0.1111111111111111,
             "#46039f"
            ],
            [
             0.2222222222222222,
             "#7201a8"
            ],
            [
             0.3333333333333333,
             "#9c179e"
            ],
            [
             0.4444444444444444,
             "#bd3786"
            ],
            [
             0.5555555555555556,
             "#d8576b"
            ],
            [
             0.6666666666666666,
             "#ed7953"
            ],
            [
             0.7777777777777778,
             "#fb9f3a"
            ],
            [
             0.8888888888888888,
             "#fdca26"
            ],
            [
             1,
             "#f0f921"
            ]
           ]
          },
          "colorway": [
           "#636efa",
           "#EF553B",
           "#00cc96",
           "#ab63fa",
           "#FFA15A",
           "#19d3f3",
           "#FF6692",
           "#B6E880",
           "#FF97FF",
           "#FECB52"
          ],
          "font": {
           "color": "#2a3f5f"
          },
          "geo": {
           "bgcolor": "white",
           "lakecolor": "white",
           "landcolor": "#E5ECF6",
           "showlakes": true,
           "showland": true,
           "subunitcolor": "white"
          },
          "hoverlabel": {
           "align": "left"
          },
          "hovermode": "closest",
          "mapbox": {
           "style": "light"
          },
          "paper_bgcolor": "white",
          "plot_bgcolor": "#E5ECF6",
          "polar": {
           "angularaxis": {
            "gridcolor": "white",
            "linecolor": "white",
            "ticks": ""
           },
           "bgcolor": "#E5ECF6",
           "radialaxis": {
            "gridcolor": "white",
            "linecolor": "white",
            "ticks": ""
           }
          },
          "scene": {
           "xaxis": {
            "backgroundcolor": "#E5ECF6",
            "gridcolor": "white",
            "gridwidth": 2,
            "linecolor": "white",
            "showbackground": true,
            "ticks": "",
            "zerolinecolor": "white"
           },
           "yaxis": {
            "backgroundcolor": "#E5ECF6",
            "gridcolor": "white",
            "gridwidth": 2,
            "linecolor": "white",
            "showbackground": true,
            "ticks": "",
            "zerolinecolor": "white"
           },
           "zaxis": {
            "backgroundcolor": "#E5ECF6",
            "gridcolor": "white",
            "gridwidth": 2,
            "linecolor": "white",
            "showbackground": true,
            "ticks": "",
            "zerolinecolor": "white"
           }
          },
          "shapedefaults": {
           "line": {
            "color": "#2a3f5f"
           }
          },
          "ternary": {
           "aaxis": {
            "gridcolor": "white",
            "linecolor": "white",
            "ticks": ""
           },
           "baxis": {
            "gridcolor": "white",
            "linecolor": "white",
            "ticks": ""
           },
           "bgcolor": "#E5ECF6",
           "caxis": {
            "gridcolor": "white",
            "linecolor": "white",
            "ticks": ""
           }
          },
          "title": {
           "x": 0.05
          },
          "xaxis": {
           "automargin": true,
           "gridcolor": "white",
           "linecolor": "white",
           "ticks": "",
           "title": {
            "standoff": 15
           },
           "zerolinecolor": "white",
           "zerolinewidth": 2
          },
          "yaxis": {
           "automargin": true,
           "gridcolor": "white",
           "linecolor": "white",
           "ticks": "",
           "title": {
            "standoff": 15
           },
           "zerolinecolor": "white",
           "zerolinewidth": 2
          }
         }
        },
        "title": {
         "text": "PCA Projection of Transformer Output"
        }
       }
      }
     },
     "metadata": {},
     "output_type": "display_data"
    }
   ],
   "source": [
    "# Projection de l'espace latent avec PCA\n",
    "\n",
    "import plotly.express as px\n",
    "import plotly.graph_objects as go\n",
    "\n",
    "# Initialize labels tensor\n",
    "labels = torch.tensor([]).to(device)\n",
    "latent_space = torch.tensor([]).to(device)\n",
    "\n",
    "# Supposons que transformer_feat est un tenseur PyTorch, et labels est également un tenseur PyTorch\n",
    "with torch.no_grad():\n",
    "    for batch_data in valid_loader:\n",
    "        x_masked, _, _, label = [item.to(device).float() for item in batch_data]\n",
    "        labels = torch.cat((labels, label), 0)\n",
    "        _, latent = model(x_masked)\n",
    "        latent_space = torch.cat((latent_space, latent), 0)\n",
    "\n",
    "# Vérification des dimensions du tenseur\n",
    "latent_space = latent_space.detach().cpu()\n",
    "\n",
    "print(f\"Latent space shape: {latent_space.shape}\")\n",
    "\n",
    "if latent_space.dim() > 2:\n",
    "    # Applatir les dimensions supplémentaires pour préparer les données pour PCA\n",
    "    latent_space = latent_space.contiguous().view(latent_space.shape[0], -1)\n",
    "\n",
    "# Conversion en NumPy pour PCA\n",
    "latentspace = latent_space.cpu().numpy()\n",
    "target_np = labels.cpu().numpy()\n",
    "\n",
    "# Appliquer PCA pour réduire à 3 dimensions\n",
    "pca = PCA(n_components=3)\n",
    "pca_result = pca.fit_transform(latentspace)\n",
    "\n",
    "# Vérification des dimensions\n",
    "assert pca_result.shape[1] == 3, \"PCA n'a pas réussi à réduire à 3 dimensions\"\n",
    "\n",
    "# Configuration des couleurs et des labels pour la visualisation\n",
    "unique_labels = np.unique(target_np)\n",
    "colors = px.colors.qualitative.Plotly  # Palette de couleurs pour chaque classe\n",
    "\n",
    "# Créer un plot 3D interactif\n",
    "fig = go.Figure()\n",
    "\n",
    "# Ajouter des points pour chaque classe\n",
    "for label, color in zip(unique_labels, colors):\n",
    "    indices = np.where(target_np == label)\n",
    "    fig.add_trace(go.Scatter3d(\n",
    "        x=pca_result[indices, 0].flatten(),\n",
    "        y=pca_result[indices, 1].flatten(),\n",
    "        z=pca_result[indices, 2].flatten(),\n",
    "        mode='markers',\n",
    "        marker=dict(color=color),\n",
    "        name=f'Class {label}'\n",
    "    ))\n",
    "\n",
    "# Ajouter des détails au graphique\n",
    "fig.update_layout(\n",
    "    title=\"PCA Projection of Transformer Output\",\n",
    "    scene=dict(\n",
    "        xaxis_title=\"Principal Component 1\",\n",
    "        yaxis_title=\"Principal Component 2\",\n",
    "        zaxis_title=\"Principal Component 3\"\n",
    "    ),\n",
    "    legend_title=\"Classes\"\n",
    ")\n",
    "\n",
    "# Afficher le graphique\n",
    "fig.show()\n"
   ]
  },
  {
   "cell_type": "code",
   "execution_count": 763,
   "metadata": {},
   "outputs": [
    {
     "data": {
      "application/vnd.plotly.v1+json": {
       "config": {
        "plotlyServerURL": "https://plot.ly"
       },
       "data": [
        {
         "marker": {
          "color": "#636EFA"
         },
         "mode": "markers",
         "name": "Class 1.0",
         "type": "scatter3d",
         "x": [
          72.50389862060547,
          -42.61210632324219,
          45.03814697265625,
          10.974078178405762,
          -58.42871856689453,
          8.18624496459961,
          -86.5521469116211,
          100.18359375,
          43.13956832885742,
          -62.132930755615234,
          56.99945831298828,
          50.63460922241211,
          29.166725158691406,
          -22.007080078125,
          20.016464233398438,
          31.47469139099121,
          -31.582674026489258,
          70.0089340209961,
          29.055198669433594,
          104.07542419433594
         ],
         "y": [
          -25.583879470825195,
          -1.2915494441986084,
          -66.08174896240234,
          11.620960235595703,
          78.95502471923828,
          -27.4241886138916,
          54.063621520996094,
          -33.80143737792969,
          31.582914352416992,
          -5.684718132019043,
          -21.83001708984375,
          -8.421789169311523,
          -67.02951049804688,
          -62.14193344116211,
          -38.22224807739258,
          -63.25103759765625,
          -9.767167091369629,
          4.598388671875,
          63.7691650390625,
          2.0895276069641113
         ],
         "z": [
          0.8355521559715271,
          -0.01025153324007988,
          1.9484719038009644,
          -26.110397338867188,
          -20.326583862304688,
          -25.202564239501953,
          -62.43364334106445,
          -73.2725830078125,
          -74.47843170166016,
          -154.3886260986328,
          36.9150505065918,
          -92.14210510253906,
          52.24348449707031,
          38.86907196044922,
          10.991271018981934,
          -81.91334533691406,
          -45.82870864868164,
          -112.03556060791016,
          -113.49655151367188,
          -32.26799774169922
         ]
        },
        {
         "marker": {
          "color": "#EF553B"
         },
         "mode": "markers",
         "name": "Class 2.0",
         "type": "scatter3d",
         "x": [
          26.02593421936035,
          0.4858945310115814,
          87.17601776123047,
          2.368589162826538,
          17.336050033569336,
          -2.580575942993164,
          -44.79741668701172,
          -29.669952392578125,
          52.86186218261719,
          -10.120033264160156,
          40.36244583129883,
          -88.60940551757812,
          3.0821187496185303,
          140.33998107910156,
          -26.050525665283203,
          -12.410326957702637,
          24.081819534301758,
          -32.7303352355957,
          -39.24815368652344,
          98.89762878417969
         ],
         "y": [
          -114.73902893066406,
          -91.88865661621094,
          65.827392578125,
          -5.834319591522217,
          -112.3946762084961,
          96.35428619384766,
          -75.48724365234375,
          -58.29749298095703,
          51.003395080566406,
          -27.839975357055664,
          8.691163063049316,
          -57.6188850402832,
          -22.759319305419922,
          -32.8245735168457,
          -111.81021881103516,
          55.47446060180664,
          35.1902961730957,
          -76.42425537109375,
          34.617618560791016,
          45.301029205322266
         ],
         "z": [
          -3.3718101978302,
          -4.2567219734191895,
          59.00337600708008,
          -111.69559478759766,
          -63.07325744628906,
          -15.882111549377441,
          -82.6451187133789,
          -19.946746826171875,
          119.44839477539062,
          -89.3518295288086,
          5.83718204498291,
          -62.971351623535156,
          86.56864929199219,
          -21.721256256103516,
          -42.627845764160156,
          -35.366661071777344,
          55.167076110839844,
          71.79166412353516,
          -34.70407485961914,
          -79.5835189819336
         ]
        },
        {
         "marker": {
          "color": "#00CC96"
         },
         "mode": "markers",
         "name": "Class 3.0",
         "type": "scatter3d",
         "x": [
          -25.59699821472168,
          63.98387145996094,
          -63.9846076965332,
          41.48187255859375,
          -67.48865509033203,
          -103.45789337158203,
          -101.78234100341797,
          -29.752492904663086,
          -50.22906494140625,
          -88.37834930419922,
          -106.48880767822266,
          99.08894348144531,
          35.778568267822266,
          83.40120697021484,
          -98.99909210205078,
          -92.01170349121094,
          -128.4730682373047,
          -20.076589584350586,
          -55.76102828979492,
          35.07139587402344
         ],
         "y": [
          68.18083190917969,
          -71.41678619384766,
          108.8670654296875,
          9.738873481750488,
          59.08264923095703,
          -20.236682891845703,
          -61.3248291015625,
          25.89820671081543,
          23.133590698242188,
          -24.04315185546875,
          24.02682113647461,
          -38.954429626464844,
          125.15238189697266,
          10.191962242126465,
          61.28857421875,
          14.787864685058594,
          -26.74997329711914,
          121.29087829589844,
          -25.51918601989746,
          77.67110443115234
         ],
         "z": [
          29.079696655273438,
          -47.56903076171875,
          15.392863273620605,
          90.66079711914062,
          64.6412582397461,
          94.55754852294922,
          52.80120849609375,
          61.16063690185547,
          40.28837585449219,
          42.4950065612793,
          54.84881591796875,
          62.690696716308594,
          -28.882139205932617,
          66.8171157836914,
          7.739521026611328,
          4.413640022277832,
          -0.010267814621329308,
          23.452720642089844,
          78.70381927490234,
          -48.605918884277344
         ]
        },
        {
         "marker": {
          "color": "#AB63FA"
         },
         "mode": "markers",
         "name": "Class 4.0",
         "type": "scatter3d",
         "x": [
          -5.210640907287598,
          122.30480194091797,
          46.471656799316406,
          77.44093322753906,
          91.73050689697266,
          89.76861572265625,
          127.72030639648438,
          -33.084712982177734,
          -61.95489501953125,
          84.46400451660156,
          30.473724365234375,
          -4.651937007904053,
          -70.00005340576172,
          115.96498107910156,
          -14.683854103088379,
          84.1191635131836,
          -80.86382293701172,
          -71.7641372680664,
          58.539215087890625,
          -36.660911560058594
         ],
         "y": [
          50.43760299682617,
          -3.8819000720977783,
          76.36994934082031,
          33.24447250366211,
          -95.51492309570312,
          49.39311599731445,
          39.15285873413086,
          96.1666488647461,
          22.55929946899414,
          98.56110382080078,
          53.225547790527344,
          97.41185760498047,
          -60.17017364501953,
          -63.55827713012695,
          -111.03050231933594,
          -86.7056884765625,
          -22.841779708862305,
          -89.61591339111328,
          -39.55094528198242,
          12.01181411743164
         ],
         "z": [
          97.40837860107422,
          20.98211097717285,
          3.573873519897461,
          16.18329429626465,
          -15.864768981933594,
          -4.6265435218811035,
          27.049802780151367,
          73.24669647216797,
          109.63166046142578,
          -9.656560897827148,
          6.873452663421631,
          71.8105239868164,
          10.683131217956543,
          21.786102294921875,
          40.790740966796875,
          50.941349029541016,
          -26.903583526611328,
          14.34205436706543,
          98.39271545410156,
          120.94400787353516
         ]
        },
        {
         "marker": {
          "color": "#FFA15A"
         },
         "mode": "markers",
         "name": "Class 5.0",
         "type": "scatter3d",
         "x": [
          63.65187454223633,
          -7.154077053070068,
          5.431952953338623,
          -48.79392623901367,
          -30.367469787597656,
          -79.27711486816406,
          56.97766876220703,
          0.9134284257888794,
          136.14466857910156,
          -66.76227569580078,
          25.064716339111328,
          43.46333312988281,
          23.22640037536621,
          17.291288375854492,
          3.8592779636383057,
          -64.40996551513672,
          -5.920220851898193,
          -41.47028350830078,
          -27.494125366210938,
          -41.637882232666016
         ],
         "y": [
          27.930706024169922,
          24.4798641204834,
          1.7943377494812012,
          -60.96686553955078,
          110.27848815917969,
          107.90155792236328,
          -19.851896286010742,
          35.794761657714844,
          27.05887794494629,
          -37.43716812133789,
          104.64161682128906,
          92.51029968261719,
          -4.648484706878662,
          -83.74754333496094,
          -64.2860107421875,
          9.008011817932129,
          -80.31185150146484,
          19.30402183532715,
          -21.074928283691406,
          70.38253784179688
         ],
         "z": [
          -35.153873443603516,
          14.56496810913086,
          43.39969253540039,
          102.59915924072266,
          -63.38899230957031,
          60.95388412475586,
          -42.006141662597656,
          -79.9956283569336,
          -36.45530700683594,
          -113.29791259765625,
          33.96479034423828,
          78.1917495727539,
          -63.797142028808594,
          104.3561019897461,
          -118.03932189941406,
          -77.7665786743164,
          -53.28847122192383,
          -93.97660064697266,
          41.39398193359375,
          -105.76604461669922
         ]
        }
       ],
       "layout": {
        "legend": {
         "title": {
          "text": "Classes"
         }
        },
        "scene": {
         "xaxis": {
          "title": {
           "text": "Component 1"
          }
         },
         "yaxis": {
          "title": {
           "text": "Component 2"
          }
         },
         "zaxis": {
          "title": {
           "text": "Component 3"
          }
         }
        },
        "template": {
         "data": {
          "bar": [
           {
            "error_x": {
             "color": "#2a3f5f"
            },
            "error_y": {
             "color": "#2a3f5f"
            },
            "marker": {
             "line": {
              "color": "#E5ECF6",
              "width": 0.5
             },
             "pattern": {
              "fillmode": "overlay",
              "size": 10,
              "solidity": 0.2
             }
            },
            "type": "bar"
           }
          ],
          "barpolar": [
           {
            "marker": {
             "line": {
              "color": "#E5ECF6",
              "width": 0.5
             },
             "pattern": {
              "fillmode": "overlay",
              "size": 10,
              "solidity": 0.2
             }
            },
            "type": "barpolar"
           }
          ],
          "carpet": [
           {
            "aaxis": {
             "endlinecolor": "#2a3f5f",
             "gridcolor": "white",
             "linecolor": "white",
             "minorgridcolor": "white",
             "startlinecolor": "#2a3f5f"
            },
            "baxis": {
             "endlinecolor": "#2a3f5f",
             "gridcolor": "white",
             "linecolor": "white",
             "minorgridcolor": "white",
             "startlinecolor": "#2a3f5f"
            },
            "type": "carpet"
           }
          ],
          "choropleth": [
           {
            "colorbar": {
             "outlinewidth": 0,
             "ticks": ""
            },
            "type": "choropleth"
           }
          ],
          "contour": [
           {
            "colorbar": {
             "outlinewidth": 0,
             "ticks": ""
            },
            "colorscale": [
             [
              0,
              "#0d0887"
             ],
             [
              0.1111111111111111,
              "#46039f"
             ],
             [
              0.2222222222222222,
              "#7201a8"
             ],
             [
              0.3333333333333333,
              "#9c179e"
             ],
             [
              0.4444444444444444,
              "#bd3786"
             ],
             [
              0.5555555555555556,
              "#d8576b"
             ],
             [
              0.6666666666666666,
              "#ed7953"
             ],
             [
              0.7777777777777778,
              "#fb9f3a"
             ],
             [
              0.8888888888888888,
              "#fdca26"
             ],
             [
              1,
              "#f0f921"
             ]
            ],
            "type": "contour"
           }
          ],
          "contourcarpet": [
           {
            "colorbar": {
             "outlinewidth": 0,
             "ticks": ""
            },
            "type": "contourcarpet"
           }
          ],
          "heatmap": [
           {
            "colorbar": {
             "outlinewidth": 0,
             "ticks": ""
            },
            "colorscale": [
             [
              0,
              "#0d0887"
             ],
             [
              0.1111111111111111,
              "#46039f"
             ],
             [
              0.2222222222222222,
              "#7201a8"
             ],
             [
              0.3333333333333333,
              "#9c179e"
             ],
             [
              0.4444444444444444,
              "#bd3786"
             ],
             [
              0.5555555555555556,
              "#d8576b"
             ],
             [
              0.6666666666666666,
              "#ed7953"
             ],
             [
              0.7777777777777778,
              "#fb9f3a"
             ],
             [
              0.8888888888888888,
              "#fdca26"
             ],
             [
              1,
              "#f0f921"
             ]
            ],
            "type": "heatmap"
           }
          ],
          "heatmapgl": [
           {
            "colorbar": {
             "outlinewidth": 0,
             "ticks": ""
            },
            "colorscale": [
             [
              0,
              "#0d0887"
             ],
             [
              0.1111111111111111,
              "#46039f"
             ],
             [
              0.2222222222222222,
              "#7201a8"
             ],
             [
              0.3333333333333333,
              "#9c179e"
             ],
             [
              0.4444444444444444,
              "#bd3786"
             ],
             [
              0.5555555555555556,
              "#d8576b"
             ],
             [
              0.6666666666666666,
              "#ed7953"
             ],
             [
              0.7777777777777778,
              "#fb9f3a"
             ],
             [
              0.8888888888888888,
              "#fdca26"
             ],
             [
              1,
              "#f0f921"
             ]
            ],
            "type": "heatmapgl"
           }
          ],
          "histogram": [
           {
            "marker": {
             "pattern": {
              "fillmode": "overlay",
              "size": 10,
              "solidity": 0.2
             }
            },
            "type": "histogram"
           }
          ],
          "histogram2d": [
           {
            "colorbar": {
             "outlinewidth": 0,
             "ticks": ""
            },
            "colorscale": [
             [
              0,
              "#0d0887"
             ],
             [
              0.1111111111111111,
              "#46039f"
             ],
             [
              0.2222222222222222,
              "#7201a8"
             ],
             [
              0.3333333333333333,
              "#9c179e"
             ],
             [
              0.4444444444444444,
              "#bd3786"
             ],
             [
              0.5555555555555556,
              "#d8576b"
             ],
             [
              0.6666666666666666,
              "#ed7953"
             ],
             [
              0.7777777777777778,
              "#fb9f3a"
             ],
             [
              0.8888888888888888,
              "#fdca26"
             ],
             [
              1,
              "#f0f921"
             ]
            ],
            "type": "histogram2d"
           }
          ],
          "histogram2dcontour": [
           {
            "colorbar": {
             "outlinewidth": 0,
             "ticks": ""
            },
            "colorscale": [
             [
              0,
              "#0d0887"
             ],
             [
              0.1111111111111111,
              "#46039f"
             ],
             [
              0.2222222222222222,
              "#7201a8"
             ],
             [
              0.3333333333333333,
              "#9c179e"
             ],
             [
              0.4444444444444444,
              "#bd3786"
             ],
             [
              0.5555555555555556,
              "#d8576b"
             ],
             [
              0.6666666666666666,
              "#ed7953"
             ],
             [
              0.7777777777777778,
              "#fb9f3a"
             ],
             [
              0.8888888888888888,
              "#fdca26"
             ],
             [
              1,
              "#f0f921"
             ]
            ],
            "type": "histogram2dcontour"
           }
          ],
          "mesh3d": [
           {
            "colorbar": {
             "outlinewidth": 0,
             "ticks": ""
            },
            "type": "mesh3d"
           }
          ],
          "parcoords": [
           {
            "line": {
             "colorbar": {
              "outlinewidth": 0,
              "ticks": ""
             }
            },
            "type": "parcoords"
           }
          ],
          "pie": [
           {
            "automargin": true,
            "type": "pie"
           }
          ],
          "scatter": [
           {
            "fillpattern": {
             "fillmode": "overlay",
             "size": 10,
             "solidity": 0.2
            },
            "type": "scatter"
           }
          ],
          "scatter3d": [
           {
            "line": {
             "colorbar": {
              "outlinewidth": 0,
              "ticks": ""
             }
            },
            "marker": {
             "colorbar": {
              "outlinewidth": 0,
              "ticks": ""
             }
            },
            "type": "scatter3d"
           }
          ],
          "scattercarpet": [
           {
            "marker": {
             "colorbar": {
              "outlinewidth": 0,
              "ticks": ""
             }
            },
            "type": "scattercarpet"
           }
          ],
          "scattergeo": [
           {
            "marker": {
             "colorbar": {
              "outlinewidth": 0,
              "ticks": ""
             }
            },
            "type": "scattergeo"
           }
          ],
          "scattergl": [
           {
            "marker": {
             "colorbar": {
              "outlinewidth": 0,
              "ticks": ""
             }
            },
            "type": "scattergl"
           }
          ],
          "scattermapbox": [
           {
            "marker": {
             "colorbar": {
              "outlinewidth": 0,
              "ticks": ""
             }
            },
            "type": "scattermapbox"
           }
          ],
          "scatterpolar": [
           {
            "marker": {
             "colorbar": {
              "outlinewidth": 0,
              "ticks": ""
             }
            },
            "type": "scatterpolar"
           }
          ],
          "scatterpolargl": [
           {
            "marker": {
             "colorbar": {
              "outlinewidth": 0,
              "ticks": ""
             }
            },
            "type": "scatterpolargl"
           }
          ],
          "scatterternary": [
           {
            "marker": {
             "colorbar": {
              "outlinewidth": 0,
              "ticks": ""
             }
            },
            "type": "scatterternary"
           }
          ],
          "surface": [
           {
            "colorbar": {
             "outlinewidth": 0,
             "ticks": ""
            },
            "colorscale": [
             [
              0,
              "#0d0887"
             ],
             [
              0.1111111111111111,
              "#46039f"
             ],
             [
              0.2222222222222222,
              "#7201a8"
             ],
             [
              0.3333333333333333,
              "#9c179e"
             ],
             [
              0.4444444444444444,
              "#bd3786"
             ],
             [
              0.5555555555555556,
              "#d8576b"
             ],
             [
              0.6666666666666666,
              "#ed7953"
             ],
             [
              0.7777777777777778,
              "#fb9f3a"
             ],
             [
              0.8888888888888888,
              "#fdca26"
             ],
             [
              1,
              "#f0f921"
             ]
            ],
            "type": "surface"
           }
          ],
          "table": [
           {
            "cells": {
             "fill": {
              "color": "#EBF0F8"
             },
             "line": {
              "color": "white"
             }
            },
            "header": {
             "fill": {
              "color": "#C8D4E3"
             },
             "line": {
              "color": "white"
             }
            },
            "type": "table"
           }
          ]
         },
         "layout": {
          "annotationdefaults": {
           "arrowcolor": "#2a3f5f",
           "arrowhead": 0,
           "arrowwidth": 1
          },
          "autotypenumbers": "strict",
          "coloraxis": {
           "colorbar": {
            "outlinewidth": 0,
            "ticks": ""
           }
          },
          "colorscale": {
           "diverging": [
            [
             0,
             "#8e0152"
            ],
            [
             0.1,
             "#c51b7d"
            ],
            [
             0.2,
             "#de77ae"
            ],
            [
             0.3,
             "#f1b6da"
            ],
            [
             0.4,
             "#fde0ef"
            ],
            [
             0.5,
             "#f7f7f7"
            ],
            [
             0.6,
             "#e6f5d0"
            ],
            [
             0.7,
             "#b8e186"
            ],
            [
             0.8,
             "#7fbc41"
            ],
            [
             0.9,
             "#4d9221"
            ],
            [
             1,
             "#276419"
            ]
           ],
           "sequential": [
            [
             0,
             "#0d0887"
            ],
            [
             0.1111111111111111,
             "#46039f"
            ],
            [
             0.2222222222222222,
             "#7201a8"
            ],
            [
             0.3333333333333333,
             "#9c179e"
            ],
            [
             0.4444444444444444,
             "#bd3786"
            ],
            [
             0.5555555555555556,
             "#d8576b"
            ],
            [
             0.6666666666666666,
             "#ed7953"
            ],
            [
             0.7777777777777778,
             "#fb9f3a"
            ],
            [
             0.8888888888888888,
             "#fdca26"
            ],
            [
             1,
             "#f0f921"
            ]
           ],
           "sequentialminus": [
            [
             0,
             "#0d0887"
            ],
            [
             0.1111111111111111,
             "#46039f"
            ],
            [
             0.2222222222222222,
             "#7201a8"
            ],
            [
             0.3333333333333333,
             "#9c179e"
            ],
            [
             0.4444444444444444,
             "#bd3786"
            ],
            [
             0.5555555555555556,
             "#d8576b"
            ],
            [
             0.6666666666666666,
             "#ed7953"
            ],
            [
             0.7777777777777778,
             "#fb9f3a"
            ],
            [
             0.8888888888888888,
             "#fdca26"
            ],
            [
             1,
             "#f0f921"
            ]
           ]
          },
          "colorway": [
           "#636efa",
           "#EF553B",
           "#00cc96",
           "#ab63fa",
           "#FFA15A",
           "#19d3f3",
           "#FF6692",
           "#B6E880",
           "#FF97FF",
           "#FECB52"
          ],
          "font": {
           "color": "#2a3f5f"
          },
          "geo": {
           "bgcolor": "white",
           "lakecolor": "white",
           "landcolor": "#E5ECF6",
           "showlakes": true,
           "showland": true,
           "subunitcolor": "white"
          },
          "hoverlabel": {
           "align": "left"
          },
          "hovermode": "closest",
          "mapbox": {
           "style": "light"
          },
          "paper_bgcolor": "white",
          "plot_bgcolor": "#E5ECF6",
          "polar": {
           "angularaxis": {
            "gridcolor": "white",
            "linecolor": "white",
            "ticks": ""
           },
           "bgcolor": "#E5ECF6",
           "radialaxis": {
            "gridcolor": "white",
            "linecolor": "white",
            "ticks": ""
           }
          },
          "scene": {
           "xaxis": {
            "backgroundcolor": "#E5ECF6",
            "gridcolor": "white",
            "gridwidth": 2,
            "linecolor": "white",
            "showbackground": true,
            "ticks": "",
            "zerolinecolor": "white"
           },
           "yaxis": {
            "backgroundcolor": "#E5ECF6",
            "gridcolor": "white",
            "gridwidth": 2,
            "linecolor": "white",
            "showbackground": true,
            "ticks": "",
            "zerolinecolor": "white"
           },
           "zaxis": {
            "backgroundcolor": "#E5ECF6",
            "gridcolor": "white",
            "gridwidth": 2,
            "linecolor": "white",
            "showbackground": true,
            "ticks": "",
            "zerolinecolor": "white"
           }
          },
          "shapedefaults": {
           "line": {
            "color": "#2a3f5f"
           }
          },
          "ternary": {
           "aaxis": {
            "gridcolor": "white",
            "linecolor": "white",
            "ticks": ""
           },
           "baxis": {
            "gridcolor": "white",
            "linecolor": "white",
            "ticks": ""
           },
           "bgcolor": "#E5ECF6",
           "caxis": {
            "gridcolor": "white",
            "linecolor": "white",
            "ticks": ""
           }
          },
          "title": {
           "x": 0.05
          },
          "xaxis": {
           "automargin": true,
           "gridcolor": "white",
           "linecolor": "white",
           "ticks": "",
           "title": {
            "standoff": 15
           },
           "zerolinecolor": "white",
           "zerolinewidth": 2
          },
          "yaxis": {
           "automargin": true,
           "gridcolor": "white",
           "linecolor": "white",
           "ticks": "",
           "title": {
            "standoff": 15
           },
           "zerolinecolor": "white",
           "zerolinewidth": 2
          }
         }
        },
        "title": {
         "text": "t-SNE Projection of Transformer Output"
        }
       }
      }
     },
     "metadata": {},
     "output_type": "display_data"
    }
   ],
   "source": [
    "# Projection de l'espace latent avec t-SNE en 3D\n",
    "\n",
    "# Appliquer t-SNE pour réduire à 3 dimensions\n",
    "tsne = TSNE(n_components=3)\n",
    "tsne_result = tsne.fit_transform(latentspace)\n",
    "\n",
    "# Vérification des dimensions\n",
    "assert tsne_result.shape[1] == 3, \"t-SNE n'a pas réussi à réduire à 3 dimensions\"\n",
    "\n",
    "# Configuration des couleurs et des labels pour la visualisation\n",
    "unique_labels = np.unique(target_np)\n",
    "colors = px.colors.qualitative.Plotly  # Palette de couleurs pour chaque classe\n",
    "\n",
    "# Créer un plot 3D interactif\n",
    "fig = go.Figure()\n",
    "\n",
    "# Ajouter des points pour chaque classe\n",
    "for label, color in zip(unique_labels, colors):\n",
    "    indices = np.where(target_np == label)\n",
    "    fig.add_trace(go.Scatter3d(\n",
    "        x=tsne_result[indices, 0].flatten(),\n",
    "        y=tsne_result[indices, 1].flatten(),\n",
    "        z=tsne_result[indices, 2].flatten(),\n",
    "        mode='markers',\n",
    "        marker=dict(color=color),\n",
    "        name=f'Class {label}'\n",
    "    ))\n",
    "\n",
    "# Ajouter des détails au graphique\n",
    "fig.update_layout(\n",
    "    title=\"t-SNE Projection of Transformer Output\",\n",
    "    scene=dict(\n",
    "        xaxis_title=\"Component 1\",\n",
    "        yaxis_title=\"Component 2\",\n",
    "        zaxis_title=\"Component 3\"\n",
    "    ),\n",
    "    legend_title=\"Classes\"\n",
    ")\n",
    "\n",
    "# Afficher le graphique\n",
    "fig.show()\n"
   ]
  }
 ],
 "metadata": {
  "kernelspec": {
   "display_name": "envPTI",
   "language": "python",
   "name": "python3"
  },
  "language_info": {
   "codemirror_mode": {
    "name": "ipython",
    "version": 3
   },
   "file_extension": ".py",
   "mimetype": "text/x-python",
   "name": "python",
   "nbconvert_exporter": "python",
   "pygments_lexer": "ipython3",
   "version": "3.12.7"
  }
 },
 "nbformat": 4,
 "nbformat_minor": 2
}
